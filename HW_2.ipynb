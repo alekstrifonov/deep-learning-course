{
  "cells": [
    {
      "cell_type": "markdown",
      "metadata": {
        "id": "5bgPpghocFIa"
      },
      "source": [
        "# Emojify!\n",
        "\n",
        "Welcome to the second assignment! You're going to use word vector representations to build an Emojifier.\n",
        "🤩 💫 🔥\n",
        "\n",
        "Have you ever wanted to make your text messages more expressive? Your emojifier app will help you do that.\n",
        "Rather than writing:\n",
        ">\"Congratulations on the promotion! Let's get coffee and talk. Love you!\"   \n",
        "\n",
        "The emojifier can automatically turn this into:\n",
        ">\"Congratulations on the promotion! 👍  Let's get coffee and talk. ☕️ Love you! ❤️\"\n",
        "\n",
        "You'll implement a model which inputs a sentence (such as \"Let's go see the baseball game tonight!\") and finds the most appropriate emoji to be used with this sentence (⚾️).\n",
        "\n",
        "### Using Word Vectors to Improve Emoji Lookups\n",
        "* In many emoji interfaces, you need to remember that ❤️  is the \"heart\" symbol rather than the \"love\" symbol.\n",
        "    * In other words, you'll have to remember to type \"heart\" to find the desired emoji, and typing \"love\" won't bring up that symbol.\n",
        "* You can make a more flexible emoji interface by using word vectors!\n",
        "* When using word vectors, you'll see that even if your training set explicitly relates only a few words to a particular emoji, your algorithm will be able to generalize and associate additional words in the test set to the same emoji.\n",
        "    * This works even if those additional words don't even appear in the training set.\n",
        "    * This allows you to build an accurate classifier mapping from sentences to emojis, even using a small training set.\n",
        "\n",
        "### What you'll build:\n",
        "1. In this exercise, you'll start with a baseline model (Emojifier-V1) using word embeddings.\n",
        "2. Then you will build a more sophisticated model (Emojifier-V2) that further incorporates an LSTM.\n",
        "\n",
        "By the end of this notebook, you'll be able to:\n",
        "\n",
        "* Create an embedding layer in Keras with pre-trained word vectors\n",
        "* Explain the advantages and disadvantages of the GloVe algorithm\n",
        "* Describe how negative sampling learns word vectors more efficiently than other methods\n",
        "* Build a sentiment classifier using word embeddings\n",
        "* Build and train a more sophisticated classifier using an LSTM\n",
        "\n",
        "🏀 👑\n",
        "\n",
        "👆 😎\n",
        "\n",
        "(^^^ Emoji for \"skills\")"
      ]
    },
    {
      "cell_type": "markdown",
      "metadata": {
        "id": "kKdcN0FDURpR"
      },
      "source": [
        "## **Download data and GloVE embeddings from Kaggle. For this purpose, you should download kaggle.json file from your Kaggle Account. (Create, if you still don't have one). Go to https://www.kaggle.com/settings/account and click Create New Token. Then, in the next cell upload the json file.**"
      ]
    },
    {
      "cell_type": "code",
      "execution_count": 2,
      "metadata": {
        "id": "GfOwRluczzV_",
        "outputId": "6e1fc90b-aca3-4c12-8f00-78f75f8327c4",
        "colab": {
          "base_uri": "https://localhost:8080/",
          "height": 103
        }
      },
      "outputs": [
        {
          "output_type": "stream",
          "name": "stdout",
          "text": [
            "Mounted at /content/gdrive\n"
          ]
        },
        {
          "output_type": "display_data",
          "data": {
            "text/plain": [
              "<IPython.core.display.HTML object>"
            ],
            "text/html": [
              "\n",
              "     <input type=\"file\" id=\"files-7dc32c22-0eac-4744-8b4a-8edeaf88be4a\" name=\"files[]\" multiple disabled\n",
              "        style=\"border:none\" />\n",
              "     <output id=\"result-7dc32c22-0eac-4744-8b4a-8edeaf88be4a\">\n",
              "      Upload widget is only available when the cell has been executed in the\n",
              "      current browser session. Please rerun this cell to enable.\n",
              "      </output>\n",
              "      <script>// Copyright 2017 Google LLC\n",
              "//\n",
              "// Licensed under the Apache License, Version 2.0 (the \"License\");\n",
              "// you may not use this file except in compliance with the License.\n",
              "// You may obtain a copy of the License at\n",
              "//\n",
              "//      http://www.apache.org/licenses/LICENSE-2.0\n",
              "//\n",
              "// Unless required by applicable law or agreed to in writing, software\n",
              "// distributed under the License is distributed on an \"AS IS\" BASIS,\n",
              "// WITHOUT WARRANTIES OR CONDITIONS OF ANY KIND, either express or implied.\n",
              "// See the License for the specific language governing permissions and\n",
              "// limitations under the License.\n",
              "\n",
              "/**\n",
              " * @fileoverview Helpers for google.colab Python module.\n",
              " */\n",
              "(function(scope) {\n",
              "function span(text, styleAttributes = {}) {\n",
              "  const element = document.createElement('span');\n",
              "  element.textContent = text;\n",
              "  for (const key of Object.keys(styleAttributes)) {\n",
              "    element.style[key] = styleAttributes[key];\n",
              "  }\n",
              "  return element;\n",
              "}\n",
              "\n",
              "// Max number of bytes which will be uploaded at a time.\n",
              "const MAX_PAYLOAD_SIZE = 100 * 1024;\n",
              "\n",
              "function _uploadFiles(inputId, outputId) {\n",
              "  const steps = uploadFilesStep(inputId, outputId);\n",
              "  const outputElement = document.getElementById(outputId);\n",
              "  // Cache steps on the outputElement to make it available for the next call\n",
              "  // to uploadFilesContinue from Python.\n",
              "  outputElement.steps = steps;\n",
              "\n",
              "  return _uploadFilesContinue(outputId);\n",
              "}\n",
              "\n",
              "// This is roughly an async generator (not supported in the browser yet),\n",
              "// where there are multiple asynchronous steps and the Python side is going\n",
              "// to poll for completion of each step.\n",
              "// This uses a Promise to block the python side on completion of each step,\n",
              "// then passes the result of the previous step as the input to the next step.\n",
              "function _uploadFilesContinue(outputId) {\n",
              "  const outputElement = document.getElementById(outputId);\n",
              "  const steps = outputElement.steps;\n",
              "\n",
              "  const next = steps.next(outputElement.lastPromiseValue);\n",
              "  return Promise.resolve(next.value.promise).then((value) => {\n",
              "    // Cache the last promise value to make it available to the next\n",
              "    // step of the generator.\n",
              "    outputElement.lastPromiseValue = value;\n",
              "    return next.value.response;\n",
              "  });\n",
              "}\n",
              "\n",
              "/**\n",
              " * Generator function which is called between each async step of the upload\n",
              " * process.\n",
              " * @param {string} inputId Element ID of the input file picker element.\n",
              " * @param {string} outputId Element ID of the output display.\n",
              " * @return {!Iterable<!Object>} Iterable of next steps.\n",
              " */\n",
              "function* uploadFilesStep(inputId, outputId) {\n",
              "  const inputElement = document.getElementById(inputId);\n",
              "  inputElement.disabled = false;\n",
              "\n",
              "  const outputElement = document.getElementById(outputId);\n",
              "  outputElement.innerHTML = '';\n",
              "\n",
              "  const pickedPromise = new Promise((resolve) => {\n",
              "    inputElement.addEventListener('change', (e) => {\n",
              "      resolve(e.target.files);\n",
              "    });\n",
              "  });\n",
              "\n",
              "  const cancel = document.createElement('button');\n",
              "  inputElement.parentElement.appendChild(cancel);\n",
              "  cancel.textContent = 'Cancel upload';\n",
              "  const cancelPromise = new Promise((resolve) => {\n",
              "    cancel.onclick = () => {\n",
              "      resolve(null);\n",
              "    };\n",
              "  });\n",
              "\n",
              "  // Wait for the user to pick the files.\n",
              "  const files = yield {\n",
              "    promise: Promise.race([pickedPromise, cancelPromise]),\n",
              "    response: {\n",
              "      action: 'starting',\n",
              "    }\n",
              "  };\n",
              "\n",
              "  cancel.remove();\n",
              "\n",
              "  // Disable the input element since further picks are not allowed.\n",
              "  inputElement.disabled = true;\n",
              "\n",
              "  if (!files) {\n",
              "    return {\n",
              "      response: {\n",
              "        action: 'complete',\n",
              "      }\n",
              "    };\n",
              "  }\n",
              "\n",
              "  for (const file of files) {\n",
              "    const li = document.createElement('li');\n",
              "    li.append(span(file.name, {fontWeight: 'bold'}));\n",
              "    li.append(span(\n",
              "        `(${file.type || 'n/a'}) - ${file.size} bytes, ` +\n",
              "        `last modified: ${\n",
              "            file.lastModifiedDate ? file.lastModifiedDate.toLocaleDateString() :\n",
              "                                    'n/a'} - `));\n",
              "    const percent = span('0% done');\n",
              "    li.appendChild(percent);\n",
              "\n",
              "    outputElement.appendChild(li);\n",
              "\n",
              "    const fileDataPromise = new Promise((resolve) => {\n",
              "      const reader = new FileReader();\n",
              "      reader.onload = (e) => {\n",
              "        resolve(e.target.result);\n",
              "      };\n",
              "      reader.readAsArrayBuffer(file);\n",
              "    });\n",
              "    // Wait for the data to be ready.\n",
              "    let fileData = yield {\n",
              "      promise: fileDataPromise,\n",
              "      response: {\n",
              "        action: 'continue',\n",
              "      }\n",
              "    };\n",
              "\n",
              "    // Use a chunked sending to avoid message size limits. See b/62115660.\n",
              "    let position = 0;\n",
              "    do {\n",
              "      const length = Math.min(fileData.byteLength - position, MAX_PAYLOAD_SIZE);\n",
              "      const chunk = new Uint8Array(fileData, position, length);\n",
              "      position += length;\n",
              "\n",
              "      const base64 = btoa(String.fromCharCode.apply(null, chunk));\n",
              "      yield {\n",
              "        response: {\n",
              "          action: 'append',\n",
              "          file: file.name,\n",
              "          data: base64,\n",
              "        },\n",
              "      };\n",
              "\n",
              "      let percentDone = fileData.byteLength === 0 ?\n",
              "          100 :\n",
              "          Math.round((position / fileData.byteLength) * 100);\n",
              "      percent.textContent = `${percentDone}% done`;\n",
              "\n",
              "    } while (position < fileData.byteLength);\n",
              "  }\n",
              "\n",
              "  // All done.\n",
              "  yield {\n",
              "    response: {\n",
              "      action: 'complete',\n",
              "    }\n",
              "  };\n",
              "}\n",
              "\n",
              "scope.google = scope.google || {};\n",
              "scope.google.colab = scope.google.colab || {};\n",
              "scope.google.colab._files = {\n",
              "  _uploadFiles,\n",
              "  _uploadFilesContinue,\n",
              "};\n",
              "})(self);\n",
              "</script> "
            ]
          },
          "metadata": {}
        },
        {
          "output_type": "stream",
          "name": "stdout",
          "text": [
            "Saving kaggle.json to kaggle.json\n"
          ]
        },
        {
          "output_type": "execute_result",
          "data": {
            "text/plain": [
              "{'kaggle.json': b'{\"username\":\"alextrifonov64\",\"key\":\"65636fa8a5f7468fdc1cb06b22bdb709\"}'}"
            ]
          },
          "metadata": {},
          "execution_count": 2
        }
      ],
      "source": [
        "from google.colab import drive, files\n",
        "drive.mount('/content/gdrive')\n",
        "\n",
        "# You should upload the kaggle.json file once the popup appears\n",
        "files.upload()"
      ]
    },
    {
      "cell_type": "code",
      "source": [],
      "metadata": {
        "id": "MLjvMlSXQb19"
      },
      "execution_count": null,
      "outputs": []
    },
    {
      "cell_type": "code",
      "execution_count": 3,
      "metadata": {
        "id": "y9Wu7aa50PuU",
        "colab": {
          "base_uri": "https://localhost:8080/"
        },
        "outputId": "639cb5df-1034-4fc2-e778-a2c6f58589b9"
      },
      "outputs": [
        {
          "output_type": "stream",
          "name": "stdout",
          "text": [
            "-rw-r--r-- 1 root root 70 May 16 02:54 kaggle.json\n"
          ]
        }
      ],
      "source": [
        "# Verify that the kaggle.json is uploaded\n",
        "!ls -lha kaggle.json"
      ]
    },
    {
      "cell_type": "code",
      "execution_count": 4,
      "metadata": {
        "id": "bKPsxTxK0Ua4",
        "colab": {
          "base_uri": "https://localhost:8080/"
        },
        "outputId": "d6e9382d-c0a2-4b6b-da0c-f443ad84cf97"
      },
      "outputs": [
        {
          "output_type": "stream",
          "name": "stdout",
          "text": [
            "Dataset URL: https://www.kaggle.com/datasets/rtatman/glove-global-vectors-for-word-representation\n",
            "License(s): other\n",
            "Downloading glove-global-vectors-for-word-representation.zip to /content\n",
            " 88% 404M/458M [00:07<00:01, 52.4MB/s]\n",
            "100% 458M/458M [00:07<00:00, 64.0MB/s]\n",
            "Archive:  glove-global-vectors-for-word-representation.zip\n",
            "  inflating: glove.6B.100d.txt       \n",
            "  inflating: glove.6B.200d.txt       \n",
            "  inflating: glove.6B.50d.txt        \n",
            "Dataset URL: https://www.kaggle.com/datasets/mruanova/emojify\n",
            "License(s): unknown\n",
            "Downloading emojify.zip to /content\n",
            "  0% 0.00/7.98k [00:00<?, ?B/s]\n",
            "100% 7.98k/7.98k [00:00<00:00, 28.0MB/s]\n",
            "Archive:  emojify.zip\n",
            "  inflating: emojify_data.csv        \n",
            "  inflating: tes.csv                 \n",
            "  inflating: tess.csv                \n",
            "  inflating: tesss.csv               \n",
            "  inflating: test_emoji.csv          \n",
            "  inflating: testing.csv             \n",
            "  inflating: train_emoji.csv         \n"
          ]
        }
      ],
      "source": [
        "#install kaggle package, move the kaggle.json in the appropriate folder and download the datasets.\n",
        "!pip install -q kaggle\n",
        "!mkdir -p ~/.kaggle\n",
        "!cp kaggle.json ~/.kaggle/\n",
        "!chmod 600 /root/.kaggle/kaggle.json\n",
        "!kaggle datasets download -d rtatman/glove-global-vectors-for-word-representation\n",
        "!unzip glove-global-vectors-for-word-representation.zip\n",
        "!kaggle datasets download -d mruanova/emojify\n",
        "!unzip emojify.zip"
      ]
    },
    {
      "cell_type": "markdown",
      "metadata": {
        "id": "HsztVBA8cFIg"
      },
      "source": [
        "<a name='0'></a>\n",
        "## Packages\n",
        "\n",
        "Let's get started! Run the following cell to load the packages you're going to use."
      ]
    },
    {
      "cell_type": "code",
      "execution_count": 5,
      "metadata": {
        "id": "XrtvfbQHxuye",
        "colab": {
          "base_uri": "https://localhost:8080/"
        },
        "outputId": "abafae44-3c7e-4f2d-a067-866afa94f4a3"
      },
      "outputs": [
        {
          "output_type": "stream",
          "name": "stdout",
          "text": [
            "Collecting emoji==1.7.0\n",
            "  Downloading emoji-1.7.0.tar.gz (175 kB)\n",
            "\u001b[?25l     \u001b[90m━━━━━━━━━━━━━━━━━━━━━━━━━━━━━━━━━━━━━━━━\u001b[0m \u001b[32m0.0/175.4 kB\u001b[0m \u001b[31m?\u001b[0m eta \u001b[36m-:--:--\u001b[0m\r\u001b[2K     \u001b[90m━━━━━━━━━━━━━━━━━━━━━━━━━━━━━━━━━━━━━━━\u001b[0m \u001b[32m175.4/175.4 kB\u001b[0m \u001b[31m6.3 MB/s\u001b[0m eta \u001b[36m0:00:00\u001b[0m\n",
            "\u001b[?25h  Preparing metadata (setup.py) ... \u001b[?25l\u001b[?25hdone\n",
            "Building wheels for collected packages: emoji\n",
            "  Building wheel for emoji (setup.py) ... \u001b[?25l\u001b[?25hdone\n",
            "  Created wheel for emoji: filename=emoji-1.7.0-py3-none-any.whl size=171031 sha256=15980a43da7a801a46a0e4882a2d6c42017f0311b5cb52e2e22abcd30c9cc8be\n",
            "  Stored in directory: /root/.cache/pip/wheels/bd/22/e5/b69726d5e1a19795ecd3b3e7464b16c0f1d019aa94ff1c8578\n",
            "Successfully built emoji\n",
            "Installing collected packages: emoji\n",
            "Successfully installed emoji-1.7.0\n"
          ]
        }
      ],
      "source": [
        "!pip install emoji==1.7.0"
      ]
    },
    {
      "cell_type": "code",
      "execution_count": 6,
      "metadata": {
        "id": "lMZ9xg8MFHZU"
      },
      "outputs": [],
      "source": [
        "import csv\n",
        "import numpy as np\n",
        "import pandas as pd\n",
        "import emoji\n",
        "import matplotlib.pyplot as plt\n",
        "from sklearn.metrics import confusion_matrix\n",
        "\n",
        "%matplotlib inline"
      ]
    },
    {
      "cell_type": "markdown",
      "metadata": {
        "id": "2bFvBcjEyiZN"
      },
      "source": [
        "### Helper functions"
      ]
    },
    {
      "cell_type": "code",
      "execution_count": 7,
      "metadata": {
        "id": "QNVFGmIVygyX"
      },
      "outputs": [],
      "source": [
        "\n",
        "def read_glove_vecs(glove_file):\n",
        "    with open(glove_file, 'r',  encoding=\"utf8\") as f:\n",
        "        words = set()\n",
        "        word_to_vec_map = {}\n",
        "        for line in f:\n",
        "            line = line.strip().split()\n",
        "            curr_word = line[0]\n",
        "            words.add(curr_word)\n",
        "            word_to_vec_map[curr_word] = np.array(line[1:], dtype=np.float64)\n",
        "\n",
        "        i = 1\n",
        "        words_to_index = {}\n",
        "        index_to_words = {}\n",
        "        for w in sorted(words):\n",
        "            words_to_index[w] = i\n",
        "            index_to_words[i] = w\n",
        "            i = i + 1\n",
        "    return words_to_index, index_to_words, word_to_vec_map\n",
        "\n",
        "def softmax(x):\n",
        "    \"\"\"Compute softmax values for each sets of scores in x.\"\"\"\n",
        "    e_x = np.exp(x - np.max(x))\n",
        "    return e_x / e_x.sum()\n",
        "\n",
        "\n",
        "def read_csv(filename = 'data/emojify_data.csv'):\n",
        "    phrase = []\n",
        "    emoji = []\n",
        "\n",
        "    with open (filename) as csvDataFile:\n",
        "        csvReader = csv.reader(csvDataFile)\n",
        "\n",
        "        for row in csvReader:\n",
        "            phrase.append(row[0])\n",
        "            emoji.append(row[1])\n",
        "\n",
        "    X = np.asarray(phrase)\n",
        "    Y = np.asarray(emoji, dtype=int)\n",
        "\n",
        "    return X, Y\n",
        "\n",
        "def convert_to_one_hot(Y, C):\n",
        "    Y = np.eye(C)[Y.reshape(-1)]\n",
        "    return Y\n",
        "\n",
        "\n",
        "emoji_dictionary = {#\"0\": \":red_heart:\",    # :heart: prints a black instead of red heart depending on the font\n",
        "                    \"0\": \"\\u2764\\ufe0f\",\n",
        "                    \"1\": \":baseball:\",\n",
        "                    \"2\": \":smile:\",\n",
        "                    \"3\": \":disappointed:\",\n",
        "                    \"4\": \":fork_and_knife:\"}\n",
        "\n",
        "def label_to_emoji(label):\n",
        "    \"\"\"\n",
        "    Converts a label (int or string) into the corresponding emoji code (string) ready to be printed\n",
        "    \"\"\"\n",
        "    return emoji.emojize(emoji_dictionary[str(label)], use_aliases=True)\n",
        "\n",
        "\n",
        "def print_predictions(X, pred):\n",
        "    print()\n",
        "    for i in range(X.shape[0]):\n",
        "        print(X[i], label_to_emoji(int(pred[i])))\n",
        "\n",
        "\n",
        "def plot_confusion_matrix(y_actu, y_pred, title='Confusion matrix', cmap=plt.cm.gray_r):\n",
        "\n",
        "    df_confusion = pd.crosstab(y_actu, y_pred.reshape(y_pred.shape[0],), rownames=['Actual'], colnames=['Predicted'], margins=True)\n",
        "\n",
        "    df_conf_norm = df_confusion / df_confusion.sum(axis=1)\n",
        "\n",
        "    plt.matshow(df_confusion, cmap=cmap) # imshow\n",
        "    #plt.title(title)\n",
        "    plt.colorbar()\n",
        "    tick_marks = np.arange(len(df_confusion.columns))\n",
        "    plt.xticks(tick_marks, df_confusion.columns, rotation=45)\n",
        "    plt.yticks(tick_marks, df_confusion.index)\n",
        "    #plt.tight_layout()\n",
        "    plt.ylabel(df_confusion.index.name)\n",
        "    plt.xlabel(df_confusion.columns.name)\n",
        "\n",
        "\n",
        "\n",
        "def predict(X, Y, W, b, word_to_vec_map):\n",
        "    \"\"\"\n",
        "    Given X (sentences) and Y (emoji indices), predict emojis and compute the accuracy of your model over the given set.\n",
        "\n",
        "    Arguments:\n",
        "    X -- input data containing sentences, numpy array of shape (m, None)\n",
        "    Y -- labels, containing index of the label emoji, numpy array of shape (m, 1)\n",
        "\n",
        "    Returns:\n",
        "    pred -- numpy array of shape (m, 1) with your predictions\n",
        "    \"\"\"\n",
        "    m = X.shape[0]\n",
        "    pred = np.zeros((m, 1))\n",
        "    any_word = list(word_to_vec_map.keys())[0]\n",
        "    # number of classes\n",
        "    n_h = word_to_vec_map[any_word].shape[0]\n",
        "\n",
        "    for j in range(m):                       # Loop over training examples\n",
        "\n",
        "        # Split jth test example (sentence) into list of lower case words\n",
        "        words = X[j].lower().split()\n",
        "\n",
        "        # Average words' vectors\n",
        "        avg = np.zeros((n_h,))\n",
        "        count = 0\n",
        "        for w in words:\n",
        "            if w in word_to_vec_map:\n",
        "                avg += word_to_vec_map[w]\n",
        "                count += 1\n",
        "\n",
        "        if count > 0:\n",
        "            avg = avg / count\n",
        "\n",
        "        # Forward propagation\n",
        "        Z = np.dot(W, avg) + b\n",
        "        A = softmax(Z)\n",
        "        pred[j] = np.argmax(A)\n",
        "\n",
        "    print(\"Accuracy: \"  + str(np.mean((pred[:] == Y.reshape(Y.shape[0],1)[:]))))\n",
        "\n",
        "    return pred\n",
        "\n"
      ]
    },
    {
      "cell_type": "markdown",
      "metadata": {
        "id": "Av0PwZYscFIh"
      },
      "source": [
        "<a name='1'></a>\n",
        "## 1 - Baseline Model: Emojifier-V1\n",
        "\n",
        "<a name='1-1'></a>\n",
        "### 1.1 - Dataset EMOJISET\n",
        "\n",
        "Let's start by building a simple baseline classifier.\n",
        "\n",
        "You have a tiny dataset (X, Y) where:\n",
        "- X contains 127 sentences (strings).\n",
        "- Y contains an integer label between 0 and 4 corresponding to an emoji for each sentence.\n",
        "\n",
        "<img src=\"https://github.com/amanchadha/coursera-deep-learning-specialization/blob/master/C5%20-%20Sequence%20Models/Week%202/Emojify/images/data_set.png?raw=true\" style=\"width:700px;height:300px;\">\n",
        "<caption><center><font color='purple'><b>Figure 1</b>: EMOJISET - a classification problem with 5 classes. A few examples of sentences are given here. </center></caption>\n",
        "\n",
        "Load the dataset using the code below. The dataset is split between training (127 examples) and testing (56 examples)."
      ]
    },
    {
      "cell_type": "code",
      "execution_count": 8,
      "metadata": {
        "id": "OvuoZ8pWcFIi"
      },
      "outputs": [],
      "source": [
        "X_train, Y_train = read_csv('train_emoji.csv')\n",
        "X_test, Y_test = read_csv('tesss.csv')"
      ]
    },
    {
      "cell_type": "code",
      "execution_count": 9,
      "metadata": {
        "id": "DjAuDbxrcFIi"
      },
      "outputs": [],
      "source": [
        "maxLen = len(max(X_train, key=len).split())"
      ]
    },
    {
      "cell_type": "markdown",
      "metadata": {
        "id": "EpbQIx7dcFIi"
      },
      "source": [
        "Run the following cell to print sentences from X_train and corresponding labels from Y_train.\n",
        "* Change `idx` to see different examples.\n",
        "* Note that due to the font used by iPython notebook, the heart emoji may be colored black rather than red."
      ]
    },
    {
      "cell_type": "code",
      "execution_count": 10,
      "metadata": {
        "id": "vE1Zd2SMcFIj",
        "scrolled": true,
        "colab": {
          "base_uri": "https://localhost:8080/"
        },
        "outputId": "25811414-822f-4155-ada9-d83126337f4d"
      },
      "outputs": [
        {
          "output_type": "stream",
          "name": "stdout",
          "text": [
            "never talk to me again 😞\n",
            "I am proud of your achievements 😄\n",
            "It is the worst day in my life 😞\n",
            "Miss you so much ❤️\n",
            "food is life 🍴\n",
            "I love you mum ❤️\n",
            "Stop saying bullshit 😞\n",
            "congratulations on your acceptance 😄\n",
            "The assignment is too long  😞\n",
            "I want to go play ⚾\n"
          ]
        },
        {
          "output_type": "stream",
          "name": "stderr",
          "text": [
            "<ipython-input-7-ac1e9ac051f0>:58: DeprecationWarning: The parameter 'use_aliases' in emoji.emojize() is deprecated and will be removed in version 2.0.0. Use language='alias' instead.\n",
            "To hide this warning, pin/downgrade the package to 'emoji~=1.6.3'\n",
            "  return emoji.emojize(emoji_dictionary[str(label)], use_aliases=True)\n"
          ]
        }
      ],
      "source": [
        "for idx in range(10):\n",
        "    print(X_train[idx], label_to_emoji(Y_train[idx]))"
      ]
    },
    {
      "cell_type": "markdown",
      "metadata": {
        "id": "tS_N2pMpcFIk"
      },
      "source": [
        "<a name='1-2'></a>\n",
        "### 1.2 - Overview of the Emojifier-V1\n",
        "\n",
        "In this section, you'll implement a baseline model called \"Emojifier-v1\".  \n",
        "\n",
        "<center>\n",
        "<img src=\"https://github.com/amanchadha/coursera-deep-learning-specialization/blob/master/C5%20-%20Sequence%20Models/Week%202/Emojify/images/image_1.png?raw=true\" style=\"width:900px;height:300px;\">\n",
        "    <caption><center><font color='purple'><b>Figure 2</b>: Baseline model (Emojifier-V1).</center></caption>\n",
        "</center></font>\n",
        "\n",
        "\n",
        "#### Inputs and Outputs\n",
        "* The input of the model is a string corresponding to a sentence (e.g. \"I love you\").\n",
        "* The output will be a probability vector of shape (1,5), (indicating that there are 5 emojis to choose from).\n",
        "* The (1,5) probability vector is passed to an argmax layer, which extracts the index of the emoji with the highest probability."
      ]
    },
    {
      "cell_type": "markdown",
      "metadata": {
        "id": "Y6nloeF5cFIl"
      },
      "source": [
        "#### One-hot Encoding\n",
        "* To get your labels into a format suitable for training a softmax classifier, convert $Y$ from its current shape  $(m, 1)$ into a \"one-hot representation\" $(m, 5)$,\n",
        "    * Each row is a one-hot vector giving the label of one example.\n",
        "    * Here, `Y_oh` stands for \"Y-one-hot\" in the variable names `Y_oh_train` and `Y_oh_test`:"
      ]
    },
    {
      "cell_type": "code",
      "execution_count": null,
      "metadata": {
        "id": "RhRTRwVncFIm"
      },
      "outputs": [],
      "source": [
        "Y_oh_train = convert_to_one_hot(Y_train, C = 5)\n",
        "Y_oh_test = convert_to_one_hot(Y_test, C = 5)"
      ]
    },
    {
      "cell_type": "markdown",
      "metadata": {
        "id": "2w3GRkw2cFIo"
      },
      "source": [
        "Now, see what `convert_to_one_hot()` did. Feel free to change `index` to print out different values."
      ]
    },
    {
      "cell_type": "code",
      "execution_count": null,
      "metadata": {
        "id": "GlHYeuBIcFIo",
        "colab": {
          "base_uri": "https://localhost:8080/"
        },
        "outputId": "724358fb-1018-4a9c-b9cf-880b371a0b3f"
      },
      "outputs": [
        {
          "output_type": "stream",
          "name": "stdout",
          "text": [
            "Sentence 'I adore my dogs' has label index 0, which is emoji ❤️\n",
            "Label index 0 in one-hot encoding format is [1. 0. 0. 0. 0.]\n"
          ]
        },
        {
          "output_type": "stream",
          "name": "stderr",
          "text": [
            "<ipython-input-10-ac1e9ac051f0>:58: DeprecationWarning: The parameter 'use_aliases' in emoji.emojize() is deprecated and will be removed in version 2.0.0. Use language='alias' instead.\n",
            "To hide this warning, pin/downgrade the package to 'emoji~=1.6.3'\n",
            "  return emoji.emojize(emoji_dictionary[str(label)], use_aliases=True)\n"
          ]
        }
      ],
      "source": [
        "idx = 42\n",
        "print(f\"Sentence '{X_train[idx]}' has label index {Y_train[idx]}, which is emoji {label_to_emoji(Y_train[idx])}\", )\n",
        "print(f\"Label index {Y_train[idx]} in one-hot encoding format is {Y_oh_train[idx]}\")"
      ]
    },
    {
      "cell_type": "markdown",
      "metadata": {
        "id": "gbFECkqAcFIp"
      },
      "source": [
        "All the data is now ready to be fed into the Emojify-V1 model. You're ready to implement the model!"
      ]
    },
    {
      "cell_type": "markdown",
      "metadata": {
        "id": "KI8mJoafcFIp"
      },
      "source": [
        "<a name='1-3'></a>\n",
        "### 1.3 - Implementing Emojifier-V1\n",
        "\n",
        "As shown in Figure 2 (above), the first step is to:\n",
        "* Convert each word in the input sentence into their word vector representations.\n",
        "* Take an average of the word vectors.\n",
        "\n",
        "Similar to this week's previous assignment, you'll use pre-trained 50-dimensional GloVe embeddings.\n",
        "\n",
        "Run the following cell to load the `word_to_vec_map`, which contains all the vector representations."
      ]
    },
    {
      "cell_type": "code",
      "execution_count": 11,
      "metadata": {
        "id": "QXI3avt7cFIq"
      },
      "outputs": [],
      "source": [
        "word_to_index, index_to_word, word_to_vec_map = read_glove_vecs('glove.6B.50d.txt')"
      ]
    },
    {
      "cell_type": "markdown",
      "metadata": {
        "id": "9JM-0zg6cFIr"
      },
      "source": [
        "You've loaded:\n",
        "- `word_to_index`: dictionary mapping from words to their indices in the vocabulary\n",
        "    - (400,001 words, with the valid indices ranging from 0 to 400,000)\n",
        "- `index_to_word`: dictionary mapping from indices to their corresponding words in the vocabulary\n",
        "- `word_to_vec_map`: dictionary mapping words to their GloVe vector representation. (50-dimensional)\n",
        "\n",
        "Run the following cell to check if it works:"
      ]
    },
    {
      "cell_type": "code",
      "execution_count": null,
      "metadata": {
        "id": "RB2ZN6ajcFIr",
        "colab": {
          "base_uri": "https://localhost:8080/"
        },
        "outputId": "3ac4ac6c-1b84-4acd-9d71-8573a69c56f8"
      },
      "outputs": [
        {
          "output_type": "stream",
          "name": "stdout",
          "text": [
            "the index of cucumber in the vocabulary is 113317\n",
            "the 289846th word in the vocabulary is potatos\n"
          ]
        }
      ],
      "source": [
        "word = \"cucumber\"\n",
        "idx = 289846\n",
        "print(\"the index of\", word, \"in the vocabulary is\", word_to_index[word])\n",
        "print(\"the\", str(idx) + \"th word in the vocabulary is\", index_to_word[idx])"
      ]
    },
    {
      "cell_type": "markdown",
      "metadata": {
        "id": "wg9QpkR5cFIs"
      },
      "source": [
        "<a name='ex-1'></a>\n",
        "### Exercise 1 - sentence_to_avg\n",
        "\n",
        "Implement `sentence_to_avg()`\n",
        "\n",
        "You'll need to carry out two steps:\n",
        "\n",
        "1. Convert every sentence to lower-case, then split the sentence into a list of words.\n",
        "    * `X.lower()` and `X.split()` might be useful. 😉\n",
        "2. For each word in the sentence, access its GloVe representation.\n",
        "    * Then take the average of all of these word vectors.\n",
        "    * You might use `numpy.zeros()`, which you can read more about [here]('https://numpy.org/doc/stable/reference/generated/numpy.zeros.html').\n",
        "    \n",
        "    \n",
        "#### Additional Hints\n",
        "* When creating the `avg` array of zeros, you'll want it to be a vector of the same shape as the other word vectors in the `word_to_vec_map`.  \n",
        "    * You can choose a word that exists in the `word_to_vec_map` and access its `.shape` field.\n",
        "    * Be careful not to hard-code the word that you access.  In other words, don't assume that if you see the word 'the' in the `word_to_vec_map` within this notebook, that this word will be in the `word_to_vec_map` when the function is being called by the automatic grader.\n",
        "\n",
        "**Hint**: you can use any one of the word vectors that you retrieved from the input `sentence` to find the shape of a word vector."
      ]
    },
    {
      "cell_type": "code",
      "execution_count": null,
      "metadata": {
        "id": "buYjsIBecFIs"
      },
      "outputs": [],
      "source": [
        "# UNQ_C1 (UNIQUE CELL IDENTIFIER, DO NOT EDIT)\n",
        "# GRADED FUNCTION: sentence_to_avg\n",
        "\n",
        "def sentence_to_avg(sentence, word_to_vec_map):\n",
        "    \"\"\"\n",
        "    Converts a sentence (string) into a list of words (strings). Extracts the GloVe representation of each word\n",
        "    and averages its value into a single vector encoding the meaning of the sentence.\n",
        "\n",
        "    Arguments:\n",
        "    sentence -- string, one training example from X\n",
        "    word_to_vec_map -- dictionary mapping every word in a vocabulary into its 50-dimensional vector representation\n",
        "\n",
        "    Returns:\n",
        "    avg -- average vector encoding information about the sentence, numpy-array of shape (50,)\n",
        "    \"\"\"\n",
        "    # Get a valid word contained in the word_to_vec_map.\n",
        "    any_word = list(word_to_vec_map.keys())[0]\n",
        "    ### START CODE HERE ###\n",
        "    # Step 1: Split sentence into list of lower case words (≈ 1 line)\n",
        "    words = sentence.lower().split()\n",
        "    # Initialize the average word vector, should have the same shape as your word vectors.\n",
        "    avg = np.zeros(word_to_vec_map[any_word].shape)\n",
        "    # Initialize count to 0\n",
        "    count = 0\n",
        "    # Step 2: average the word vectors. You can loop over the words in the list \"words\".\n",
        "    for word in words:\n",
        "      if word in word_to_vec_map:\n",
        "        avg += word_to_vec_map[word]\n",
        "        count += 1\n",
        "\n",
        "    if count > 0:\n",
        "      avg = avg / count\n",
        "    ### END CODE HERE ###\n",
        "\n",
        "    return avg"
      ]
    },
    {
      "cell_type": "code",
      "execution_count": null,
      "metadata": {
        "id": "7OwW-r6ecFIt",
        "scrolled": true,
        "colab": {
          "base_uri": "https://localhost:8080/"
        },
        "outputId": "274d4b8a-29bb-40e5-c416-55fe3e3ff93f"
      },
      "outputs": [
        {
          "output_type": "stream",
          "name": "stdout",
          "text": [
            "avg = \n",
            " [-0.008005    0.56370833 -0.50427333  0.258865    0.55131103  0.03104983\n",
            " -0.21013718  0.16893933 -0.09590267  0.141784   -0.15708967  0.18525867\n",
            "  0.6495785   0.38371117  0.21102167  0.11301667  0.02613967  0.26037767\n",
            "  0.05820667 -0.01578167 -0.12078833 -0.02471267  0.4128455   0.5152061\n",
            "  0.38756167 -0.898661   -0.535145    0.33501167  0.68806933 -0.2156265\n",
            "  1.797155    0.10476933 -0.36775333  0.750785    0.10282583  0.348925\n",
            " -0.27262833  0.66768    -0.10706167 -0.283635    0.59580117  0.28747333\n",
            " -0.3366635   0.23393817  0.34349183  0.178405    0.1166155  -0.076433\n",
            "  0.1445417   0.09808667]\n",
            "\u001b[92mAll tests passed!\n"
          ]
        }
      ],
      "source": [
        "# BEGIN UNIT TEST\n",
        "avg = sentence_to_avg(\"Morrocan couscous is my favorite dish\", word_to_vec_map)\n",
        "print(\"avg = \\n\", avg)\n",
        "\n",
        "def sentence_to_avg_test(target):\n",
        "    # Create a controlled word to vec map\n",
        "    word_to_vec_map = {'a': [3, 3], 'synonym_of_a': [3, 3], 'a_nw': [2, 4], 'a_s': [3, 2],\n",
        "                       'c': [-2, 1], 'c_n': [-2, 2],'c_ne': [-1, 2], 'c_e': [-1, 1], 'c_se': [-1, 0],\n",
        "                       'c_s': [-2, 0], 'c_sw': [-3, 0], 'c_w': [-3, 1], 'c_nw': [-3, 2]\n",
        "                      }\n",
        "    # Convert lists to np.arrays\n",
        "    for key in word_to_vec_map.keys():\n",
        "        word_to_vec_map[key] = np.array(word_to_vec_map[key])\n",
        "\n",
        "    avg = target(\"a a_nw c_w a_s\", word_to_vec_map)\n",
        "    assert tuple(avg.shape) == tuple(word_to_vec_map['a'].shape),  \"Check the shape of your avg array\"\n",
        "    assert np.allclose(avg, [1.25, 2.5]),  \"Check that you are finding the 4 words\"\n",
        "    avg = target(\"love a a_nw c_w a_s\", word_to_vec_map)\n",
        "    assert np.allclose(avg, [1.25, 2.5]), \"Divide by count, not len(words)\"\n",
        "    avg = target(\"love\", word_to_vec_map)\n",
        "    assert np.allclose(avg, [0, 0]), \"Average of no words must give an array of zeros\"\n",
        "    avg = target(\"c_se foo a a_nw c_w a_s deeplearning c_nw\", word_to_vec_map)\n",
        "    assert np.allclose(avg, [0.1666667, 2.0]), \"Debug the last example\"\n",
        "\n",
        "    print(\"\\033[92mAll tests passed!\")\n",
        "\n",
        "sentence_to_avg_test(sentence_to_avg)\n",
        "\n",
        "# END UNIT TEST"
      ]
    },
    {
      "cell_type": "markdown",
      "metadata": {
        "id": "NPPv5gmucFIv"
      },
      "source": [
        "<a name='1-4'></a>\n",
        "### 1.4 - Implement the Model\n",
        "\n",
        "You now have all the pieces to finish implementing the `model()` function!\n",
        "After using `sentence_to_avg()` you need to:\n",
        "* Pass the average through forward propagation\n",
        "* Compute the cost\n",
        "* Backpropagate to update the softmax parameters\n",
        "\n",
        "<a name='ex-2'></a>\n",
        "### Exercise 2 - model\n",
        "\n",
        "Implement the `model()` function described in Figure (2).\n",
        "\n",
        "* The equations you need to implement in the forward pass and to compute the cross-entropy cost are below:\n",
        "* The variable $Y_{oh}$ (\"Y one hot\") is the one-hot encoding of the output labels.\n",
        "\n",
        "$$ z^{(i)} = W . avg^{(i)} + b$$\n",
        "\n",
        "$$ a^{(i)} = softmax(z^{(i)})$$\n",
        "\n",
        "$$ \\mathcal{L}^{(i)} = - \\sum_{k = 0}^{n_y - 1} Y_{oh,k}^{(i)} * log(a^{(i)}_k)$$\n",
        "\n",
        "**Note**: It is possible to come up with a more efficient vectorized implementation. For now, just use nested for loops to better understand the algorithm, and for easier debugging.\n",
        "\n",
        "The function `softmax()` is provided, and has already been imported."
      ]
    },
    {
      "cell_type": "code",
      "execution_count": null,
      "metadata": {
        "id": "O_BzrO-TcFIv"
      },
      "outputs": [],
      "source": [
        "# UNQ_C2 (UNIQUE CELL IDENTIFIER, DO NOT EDIT)\n",
        "# GRADED FUNCTION: model\n",
        "\n",
        "def model(X, Y, word_to_vec_map, learning_rate = 0.01, num_iterations = 200):\n",
        "    \"\"\"\n",
        "    Model to train word vector representations in numpy.\n",
        "\n",
        "    Arguments:\n",
        "    X -- input data, numpy array of sentences as strings, of shape (m, 1)\n",
        "    Y -- labels, numpy array of integers between 0 and 7, numpy-array of shape (m, 1)\n",
        "    word_to_vec_map -- dictionary mapping every word in a vocabulary into its 50-dimensional vector representation\n",
        "    learning_rate -- learning_rate for the stochastic gradient descent algorithm\n",
        "    num_iterations -- number of iterations\n",
        "\n",
        "    Returns:\n",
        "    pred -- vector of predictions, numpy-array of shape (m, 1)\n",
        "    W -- weight matrix of the softmax layer, of shape (n_y, n_h)\n",
        "    b -- bias of the softmax layer, of shape (n_y,)\n",
        "    \"\"\"\n",
        "\n",
        "    # Get a valid word contained in the word_to_vec_map\n",
        "    any_word = list(word_to_vec_map.keys())[0]\n",
        "\n",
        "    # Initialize cost. It is needed during grading\n",
        "    cost = 0\n",
        "\n",
        "    # Define number of training examples\n",
        "    m = Y.shape[0]                             # number of training examples\n",
        "    n_y = len(np.unique(Y))                    # number of classes\n",
        "    n_h = word_to_vec_map[any_word].shape[0]   # dimensions of the GloVe vectors\n",
        "\n",
        "    # Initialize parameters using Xavier initialization\n",
        "    W = np.random.randn(n_y, n_h) / np.sqrt(n_h)\n",
        "    b = np.zeros((n_y,))\n",
        "\n",
        "    # Convert Y to Y_onehot with n_y classes\n",
        "    Y_oh = convert_to_one_hot(Y, C = n_y)\n",
        "\n",
        "    # Optimization loop\n",
        "    for t in range(num_iterations): # Loop over the number of iterations\n",
        "        for i in range(m):          # Loop over the training examples\n",
        "\n",
        "            ### START CODE HERE ### (≈ 4 lines of code)\n",
        "            # Average the word vectors of the words from the i'th training example\n",
        "            avg = sentence_to_avg(X[i], word_to_vec_map)\n",
        "\n",
        "            # Forward propagate the avg through the softmax layer\n",
        "            z = W @ avg + b\n",
        "            a = softmax(z)\n",
        "\n",
        "            # Compute cost using the i'th training label's one hot representation and \"A\" (the output of the softmax)\n",
        "            cost = -np.sum(Y_oh[i] * np.log(a))\n",
        "            ### END CODE HERE ###\n",
        "\n",
        "            # Compute gradients\n",
        "            dz = a - Y_oh[i]\n",
        "            dW = np.dot(dz.reshape(n_y,1), avg.reshape(1, n_h))\n",
        "            db = dz\n",
        "\n",
        "            # Update parameters with Stochastic Gradient Descent\n",
        "            W = W - learning_rate * dW\n",
        "            b = b - learning_rate * db\n",
        "\n",
        "        if t % 10 == 0:\n",
        "            print(\"Epoch: \" + str(t) + \" --- cost = \" + str(cost))\n",
        "            pred = predict(X, Y, W, b, word_to_vec_map) #predict is defined in emo_utils.py\n",
        "\n",
        "    return pred, W, b"
      ]
    },
    {
      "cell_type": "code",
      "execution_count": null,
      "metadata": {
        "id": "idsSj0OvxeSi",
        "colab": {
          "base_uri": "https://localhost:8080/"
        },
        "outputId": "fb892ad3-37e8-4b11-9ed0-ca268f318432"
      },
      "outputs": [
        {
          "output_type": "stream",
          "name": "stdout",
          "text": [
            "Epoch: 0 --- cost = 0.05105772513207822\n",
            "Accuracy: 0.9166666666666666\n",
            "Epoch: 10 --- cost = 0.03893716809550303\n",
            "Accuracy: 0.9166666666666666\n",
            "Epoch: 20 --- cost = 0.03078199487865477\n",
            "Accuracy: 0.9166666666666666\n",
            "Epoch: 30 --- cost = 0.0250625254818359\n",
            "Accuracy: 0.9166666666666666\n",
            "Epoch: 40 --- cost = 0.020906296817970453\n",
            "Accuracy: 0.9166666666666666\n",
            "Epoch: 50 --- cost = 0.017791876552201644\n",
            "Accuracy: 0.9166666666666666\n",
            "Epoch: 60 --- cost = 0.015394747683241103\n",
            "Accuracy: 0.9166666666666666\n",
            "Epoch: 70 --- cost = 0.01350575460904451\n",
            "Accuracy: 1.0\n",
            "Epoch: 80 --- cost = 0.01198593465621373\n",
            "Accuracy: 1.0\n",
            "Epoch: 90 --- cost = 0.01074046826626526\n",
            "Accuracy: 1.0\n",
            "Epoch: 100 --- cost = 0.00970311068897676\n",
            "Accuracy: 1.0\n",
            "\u001b[92mAll tests passed!\n"
          ]
        }
      ],
      "source": [
        "# UNIT TEST\n",
        "def model_test(target):\n",
        "    # Create a controlled word to vec map\n",
        "    word_to_vec_map = {'a': [3, 3], 'synonym_of_a': [3, 3], 'a_nw': [2, 4], 'a_s': [3, 2], 'a_n': [3, 4],\n",
        "                       'c': [-2, 1], 'c_n': [-2, 2],'c_ne': [-1, 2], 'c_e': [-1, 1], 'c_se': [-1, 0],\n",
        "                       'c_s': [-2, 0], 'c_sw': [-3, 0], 'c_w': [-3, 1], 'c_nw': [-3, 2]\n",
        "                      }\n",
        "    # Convert lists to np.arrays\n",
        "    for key in word_to_vec_map.keys():\n",
        "        word_to_vec_map[key] = np.array(word_to_vec_map[key])\n",
        "\n",
        "    # Training set. Sentences composed of a_* words will be of class 0 and sentences composed of c_* words will be of class 1\n",
        "    X = np.asarray(['a a_s synonym_of_a a_n c_sw', 'a a_s a_n c_sw', 'a_s  a a_n', 'synonym_of_a a a_s a_n c_sw', \" a_s a_n\",\n",
        "                    \" a a_s a_n c \", \" a_n  a c c c_e\",\n",
        "                   'c c_nw c_n c c_ne', 'c_e c c_se c_s', 'c_nw c a_s c_e c_e', 'c_e a_nw c_sw', 'c_sw c c_ne c_ne'])\n",
        "\n",
        "    Y = np.asarray([0, 0, 0, 0, 0, 0, 1, 1, 1, 1, 1, 1])\n",
        "\n",
        "    np.random.seed(10)\n",
        "    pred, W, b = model(X, Y, word_to_vec_map, 0.0025, 110)\n",
        "\n",
        "    assert W.shape == (2, 2), \"W must be of shape 2 x 2\"\n",
        "    assert np.allclose(pred.transpose(), Y), \"Model must give a perfect accuracy\"\n",
        "    assert np.allclose(b[0], -1 * b[1]), \"b should be symmetric in this example\"\n",
        "\n",
        "    print(\"\\033[92mAll tests passed!\")\n",
        "\n",
        "model_test(model)"
      ]
    },
    {
      "cell_type": "code",
      "execution_count": null,
      "metadata": {
        "id": "n7bWQtarcFIv",
        "colab": {
          "base_uri": "https://localhost:8080/"
        },
        "outputId": "254911e3-98c6-47f9-93a1-4e82f2dde0c2"
      },
      "outputs": [
        {
          "output_type": "stream",
          "name": "stdout",
          "text": [
            "(132,)\n",
            "(132,)\n",
            "(132, 5)\n",
            "never talk to me again\n",
            "<class 'numpy.ndarray'>\n",
            "(20,)\n",
            "(20,)\n",
            "(132, 5)\n",
            "<class 'numpy.ndarray'>\n"
          ]
        }
      ],
      "source": [
        "print(X_train.shape)\n",
        "print(Y_train.shape)\n",
        "print(np.eye(5)[Y_train.reshape(-1)].shape)\n",
        "print(X_train[0])\n",
        "print(type(X_train))\n",
        "Y = np.asarray([5, 0, 0, 5, 4, 4, 4, 6, 6, 4, 1, 1, 5, 6, 6, 3, 6, 3, 4, 4])\n",
        "print(Y.shape)\n",
        "\n",
        "X = np.asarray(['I am going to the bar tonight', 'I love you', 'miss you my dear',\n",
        " 'Lets go party and have drinks','Congrats on the new job','Congratulations',\n",
        " 'I am so happy for you', 'Why are you feeling bad', 'What is wrong with you',\n",
        " 'You totally deserve this prize', 'Let us go play football',\n",
        " 'Are you down for football this afternoon', 'Work hard play harder',\n",
        " 'It is surprising how people can be dumb sometimes',\n",
        " 'I am very disappointed','It is the best day in my life',\n",
        " 'I think I will end up alone','My life is so boring','Good job',\n",
        " 'Great so awesome'])\n",
        "\n",
        "print(X.shape)\n",
        "print(np.eye(5)[Y_train.reshape(-1)].shape)\n",
        "print(type(X_train))\n"
      ]
    },
    {
      "cell_type": "markdown",
      "metadata": {
        "id": "KvdG05pgcFIw"
      },
      "source": [
        "Run the next cell to train your model and learn the softmax parameters (W, b). **The training process will take about 5 minutes**"
      ]
    },
    {
      "cell_type": "code",
      "execution_count": null,
      "metadata": {
        "id": "umWTqRcpcFIw",
        "scrolled": true,
        "colab": {
          "base_uri": "https://localhost:8080/"
        },
        "outputId": "49989481-a483-4b2e-c5eb-0e8552321433"
      },
      "outputs": [
        {
          "output_type": "stream",
          "name": "stdout",
          "text": [
            "Epoch: 0 --- cost = 1.952049881281007\n",
            "Accuracy: 0.3484848484848485\n",
            "Epoch: 10 --- cost = 1.0040987758894053\n",
            "Accuracy: 0.7272727272727273\n",
            "Epoch: 20 --- cost = 0.5388772571119417\n",
            "Accuracy: 0.803030303030303\n",
            "Epoch: 30 --- cost = 0.3331218997365076\n",
            "Accuracy: 0.803030303030303\n",
            "Epoch: 40 --- cost = 0.2314476628942315\n",
            "Accuracy: 0.8257575757575758\n",
            "Epoch: 50 --- cost = 0.1747265584802322\n",
            "Accuracy: 0.8560606060606061\n",
            "Epoch: 60 --- cost = 0.13985752584011937\n",
            "Accuracy: 0.8787878787878788\n",
            "Epoch: 70 --- cost = 0.11677061223976795\n",
            "Accuracy: 0.8939393939393939\n",
            "Epoch: 80 --- cost = 0.10058743375666801\n",
            "Accuracy: 0.9090909090909091\n",
            "Epoch: 90 --- cost = 0.08872634092095644\n",
            "Accuracy: 0.9242424242424242\n",
            "Epoch: 100 --- cost = 0.07971818726014807\n",
            "Accuracy: 0.9318181818181818\n",
            "Epoch: 110 --- cost = 0.07267535951826085\n",
            "Accuracy: 0.9318181818181818\n",
            "Epoch: 120 --- cost = 0.0670345060004128\n",
            "Accuracy: 0.9318181818181818\n",
            "Epoch: 130 --- cost = 0.06242326850488143\n",
            "Accuracy: 0.9318181818181818\n",
            "Epoch: 140 --- cost = 0.05858708329632551\n",
            "Accuracy: 0.9393939393939394\n",
            "Epoch: 150 --- cost = 0.055346878990539604\n",
            "Accuracy: 0.9393939393939394\n",
            "Epoch: 160 --- cost = 0.05257355252183998\n",
            "Accuracy: 0.9393939393939394\n",
            "Epoch: 170 --- cost = 0.05017200064054583\n",
            "Accuracy: 0.9393939393939394\n",
            "Epoch: 180 --- cost = 0.04807081857515234\n",
            "Accuracy: 0.946969696969697\n",
            "Epoch: 190 --- cost = 0.046215476407460765\n",
            "Accuracy: 0.9545454545454546\n",
            "[[3.]\n",
            " [2.]\n",
            " [3.]\n",
            " [0.]\n",
            " [4.]\n",
            " [0.]\n",
            " [3.]\n",
            " [2.]\n",
            " [3.]\n",
            " [1.]\n",
            " [3.]\n",
            " [3.]\n",
            " [1.]\n",
            " [3.]\n",
            " [2.]\n",
            " [3.]\n",
            " [2.]\n",
            " [3.]\n",
            " [1.]\n",
            " [2.]\n",
            " [3.]\n",
            " [0.]\n",
            " [2.]\n",
            " [2.]\n",
            " [2.]\n",
            " [1.]\n",
            " [4.]\n",
            " [3.]\n",
            " [3.]\n",
            " [4.]\n",
            " [0.]\n",
            " [3.]\n",
            " [4.]\n",
            " [2.]\n",
            " [0.]\n",
            " [3.]\n",
            " [2.]\n",
            " [2.]\n",
            " [3.]\n",
            " [4.]\n",
            " [2.]\n",
            " [2.]\n",
            " [0.]\n",
            " [2.]\n",
            " [3.]\n",
            " [0.]\n",
            " [3.]\n",
            " [2.]\n",
            " [4.]\n",
            " [3.]\n",
            " [0.]\n",
            " [3.]\n",
            " [3.]\n",
            " [3.]\n",
            " [4.]\n",
            " [2.]\n",
            " [1.]\n",
            " [1.]\n",
            " [1.]\n",
            " [2.]\n",
            " [3.]\n",
            " [1.]\n",
            " [0.]\n",
            " [0.]\n",
            " [0.]\n",
            " [3.]\n",
            " [4.]\n",
            " [4.]\n",
            " [2.]\n",
            " [2.]\n",
            " [1.]\n",
            " [2.]\n",
            " [0.]\n",
            " [3.]\n",
            " [2.]\n",
            " [2.]\n",
            " [0.]\n",
            " [3.]\n",
            " [3.]\n",
            " [1.]\n",
            " [2.]\n",
            " [1.]\n",
            " [2.]\n",
            " [2.]\n",
            " [4.]\n",
            " [2.]\n",
            " [3.]\n",
            " [2.]\n",
            " [4.]\n",
            " [0.]\n",
            " [0.]\n",
            " [3.]\n",
            " [3.]\n",
            " [3.]\n",
            " [3.]\n",
            " [2.]\n",
            " [3.]\n",
            " [1.]\n",
            " [2.]\n",
            " [3.]\n",
            " [0.]\n",
            " [2.]\n",
            " [2.]\n",
            " [2.]\n",
            " [3.]\n",
            " [2.]\n",
            " [2.]\n",
            " [2.]\n",
            " [4.]\n",
            " [1.]\n",
            " [1.]\n",
            " [3.]\n",
            " [3.]\n",
            " [4.]\n",
            " [1.]\n",
            " [2.]\n",
            " [1.]\n",
            " [1.]\n",
            " [3.]\n",
            " [1.]\n",
            " [0.]\n",
            " [4.]\n",
            " [0.]\n",
            " [3.]\n",
            " [3.]\n",
            " [4.]\n",
            " [4.]\n",
            " [1.]\n",
            " [4.]\n",
            " [3.]\n",
            " [0.]\n",
            " [2.]]\n"
          ]
        }
      ],
      "source": [
        "np.random.seed(1)\n",
        "pred, W, b = model(X_train, Y_train, word_to_vec_map)\n",
        "print(pred)"
      ]
    },
    {
      "cell_type": "markdown",
      "metadata": {
        "id": "ygumNDIUcFIx"
      },
      "source": [
        "Great! Your model has pretty high accuracy on the training set. Now see how it does on the test set:"
      ]
    },
    {
      "cell_type": "markdown",
      "metadata": {
        "id": "O862gcUicFIx"
      },
      "source": [
        "<a name='1-5'></a>\n",
        "### 1.5 - Examining Test Set Performance\n",
        "\n",
        "Note that the `predict` function used here is defined in `emo_util.spy`."
      ]
    },
    {
      "cell_type": "code",
      "execution_count": null,
      "metadata": {
        "id": "yhb6CzhrcFIx",
        "scrolled": true,
        "colab": {
          "base_uri": "https://localhost:8080/"
        },
        "outputId": "6654951e-c8e0-464e-c1bd-e09986253c7b"
      },
      "outputs": [
        {
          "output_type": "stream",
          "name": "stdout",
          "text": [
            "Training set:\n",
            "Accuracy: 0.9545454545454546\n",
            "Test set:\n",
            "Accuracy: 0.8571428571428571\n"
          ]
        }
      ],
      "source": [
        "print(\"Training set:\")\n",
        "pred_train = predict(X_train, Y_train, W, b, word_to_vec_map)\n",
        "print('Test set:')\n",
        "pred_test = predict(X_test, Y_test, W, b, word_to_vec_map)"
      ]
    },
    {
      "cell_type": "code",
      "execution_count": null,
      "metadata": {
        "id": "wiSr9CXOxeSj"
      },
      "outputs": [],
      "source": [
        "def predict_single(sentence, W=W, b=b, word_to_vec_map=word_to_vec_map):\n",
        "    \"\"\"\n",
        "    Given X (sentences) and Y (emoji indices), predict emojis and compute the accuracy of your model over the given set.\n",
        "\n",
        "    Arguments:\n",
        "    X -- input data containing sentences, numpy array of shape (m, None)\n",
        "    Y -- labels, containing index of the label emoji, numpy array of shape (m, 1)\n",
        "\n",
        "    Returns:\n",
        "    pred -- numpy array of shape (m, 1) with your predictions\n",
        "    \"\"\"\n",
        "\n",
        "    any_word = list(word_to_vec_map.keys())[0]\n",
        "    # number of classes\n",
        "    n_h = word_to_vec_map[any_word].shape[0]\n",
        "\n",
        "    # Split jth test example (sentence) into list of lower case words\n",
        "    words = sentence.lower().split()\n",
        "\n",
        "    # Average words' vectors\n",
        "    avg = np.zeros((n_h,))\n",
        "    count = 0\n",
        "    for w in words:\n",
        "        if w in word_to_vec_map:\n",
        "            avg += word_to_vec_map[w]\n",
        "            count += 1\n",
        "\n",
        "    if count > 0:\n",
        "        avg = avg / count\n",
        "\n",
        "    # Forward propagation\n",
        "    Z = np.dot(W, avg) + b\n",
        "    A = softmax(Z)\n",
        "    pred = np.argmax(A)\n",
        "\n",
        "\n",
        "    return pred"
      ]
    },
    {
      "cell_type": "code",
      "execution_count": null,
      "metadata": {
        "id": "gQ4dimw2xeSl",
        "colab": {
          "base_uri": "https://localhost:8080/",
          "height": 86
        },
        "outputId": "9a156498-ae3a-4252-ca74-4618c4f0073c"
      },
      "outputs": [
        {
          "output_type": "stream",
          "name": "stderr",
          "text": [
            "<ipython-input-10-ac1e9ac051f0>:58: DeprecationWarning: The parameter 'use_aliases' in emoji.emojize() is deprecated and will be removed in version 2.0.0. Use language='alias' instead.\n",
            "To hide this warning, pin/downgrade the package to 'emoji~=1.6.3'\n",
            "  return emoji.emojize(emoji_dictionary[str(label)], use_aliases=True)\n"
          ]
        },
        {
          "output_type": "execute_result",
          "data": {
            "text/plain": [
              "'❤️'"
            ],
            "application/vnd.google.colaboratory.intrinsic+json": {
              "type": "string"
            }
          },
          "metadata": {},
          "execution_count": 55
        }
      ],
      "source": [
        "label_to_emoji(int(predict_single(\"I love you\")))"
      ]
    },
    {
      "cell_type": "markdown",
      "metadata": {
        "id": "hwmrm-aDcFIy"
      },
      "source": [
        "**Note**:\n",
        "* Random guessing would have had 20% accuracy, given that there are 5 classes. (1/5 = 20%).\n",
        "* This is pretty good performance after training on only 127 examples.\n",
        "\n",
        "\n",
        "#### The Model Matches Emojis to Relevant Words\n",
        "In the training set, the algorithm saw the sentence\n",
        ">\"I love you.\"\n",
        "\n",
        "with the label ❤️.\n",
        "* You can check that the word \"adore\" does not appear in the training set.\n",
        "* Nonetheless, let's see what happens if you write \"I adore you.\""
      ]
    },
    {
      "cell_type": "code",
      "execution_count": null,
      "metadata": {
        "id": "tvCl7fUvcFIz",
        "scrolled": true,
        "colab": {
          "base_uri": "https://localhost:8080/"
        },
        "outputId": "73d4d1a0-cca6-453b-f377-36d91a3f31b0"
      },
      "outputs": [
        {
          "output_type": "stream",
          "name": "stdout",
          "text": [
            "Accuracy: 0.625\n",
            "\n",
            "i adore you ❤️\n",
            "i love you ❤️\n",
            "funny lol 😄\n",
            "lets play with a ball ⚾\n",
            "food is ready 🍴\n",
            "not feeling happy 😄\n",
            "i am ready 😞\n",
            "are you ready 🍴\n"
          ]
        },
        {
          "output_type": "stream",
          "name": "stderr",
          "text": [
            "<ipython-input-10-ac1e9ac051f0>:64: DeprecationWarning: Conversion of an array with ndim > 0 to a scalar is deprecated, and will error in future. Ensure you extract a single element from your array before performing this operation. (Deprecated NumPy 1.25.)\n",
            "  print(X[i], label_to_emoji(int(pred[i])))\n",
            "<ipython-input-10-ac1e9ac051f0>:58: DeprecationWarning: The parameter 'use_aliases' in emoji.emojize() is deprecated and will be removed in version 2.0.0. Use language='alias' instead.\n",
            "To hide this warning, pin/downgrade the package to 'emoji~=1.6.3'\n",
            "  return emoji.emojize(emoji_dictionary[str(label)], use_aliases=True)\n"
          ]
        }
      ],
      "source": [
        "X_my_sentences = np.array([\"i adore you\", \"i love you\", \"funny lol\", \"lets play with a ball\", \"food is ready\", \"not feeling happy\", \"i am ready\", \"are you ready\"])\n",
        "Y_my_labels = np.array([[0], [0], [2], [1], [4],[3], [2], [2]])\n",
        "\n",
        "pred = predict(X_my_sentences, Y_my_labels , W, b, word_to_vec_map)\n",
        "print_predictions(X_my_sentences, pred)"
      ]
    },
    {
      "cell_type": "markdown",
      "metadata": {
        "id": "ZyC-BGqKcFI0"
      },
      "source": [
        "Amazing!\n",
        "* Because *adore* has a similar embedding as *love*, the algorithm has generalized correctly even to a word it has never seen before.\n",
        "* Words such as *heart*, *dear*, *beloved* or *adore* have embedding vectors similar to *love*.\n",
        "    * Feel free to modify the inputs above and try out a variety of input sentences.\n",
        "    * How well does it work?\n",
        "\n",
        "#### Word Ordering isn't Considered in this Model\n",
        "* Note that the model doesn't get the following sentence correct:\n",
        ">\"not feeling happy\"\n",
        "\n",
        "* This algorithm ignores word ordering, so is not good at understanding phrases like \"not happy.\"\n",
        "\n",
        "#### Confusion Matrix\n",
        "* Printing the confusion matrix can also help understand which classes are more difficult for your model.\n",
        "* A confusion matrix shows how often an example whose label is one class (\"actual\" class) is mislabeled by the algorithm with a different class (\"predicted\" class).\n",
        "\n",
        "Print the confusion matrix below:"
      ]
    },
    {
      "cell_type": "code",
      "execution_count": null,
      "metadata": {
        "id": "Ab9aH9IQcFI1",
        "colab": {
          "base_uri": "https://localhost:8080/",
          "height": 638
        },
        "outputId": "187b74e1-bcaf-48b6-b0e4-9b40cd36fb79"
      },
      "outputs": [
        {
          "output_type": "stream",
          "name": "stdout",
          "text": [
            "(56,)\n",
            "           ❤️    ⚾    😄    😞   🍴\n",
            "Predicted  0.0  1.0  2.0  3.0  4.0  All\n",
            "Actual                                 \n",
            "0            6    0    0    1    0    7\n",
            "1            0    8    0    0    0    8\n",
            "2            2    0   16    0    0   18\n",
            "3            1    1    2   12    0   16\n",
            "4            0    0    1    0    6    7\n",
            "All          9    9   19   13    6   56\n"
          ]
        },
        {
          "output_type": "stream",
          "name": "stderr",
          "text": [
            "<ipython-input-10-ac1e9ac051f0>:58: DeprecationWarning: The parameter 'use_aliases' in emoji.emojize() is deprecated and will be removed in version 2.0.0. Use language='alias' instead.\n",
            "To hide this warning, pin/downgrade the package to 'emoji~=1.6.3'\n",
            "  return emoji.emojize(emoji_dictionary[str(label)], use_aliases=True)\n"
          ]
        },
        {
          "output_type": "display_data",
          "data": {
            "text/plain": [
              "<Figure size 480x480 with 2 Axes>"
            ],
            "image/png": "[encoded data removed]"
          },
          "metadata": {}
        }
      ],
      "source": [
        "# START SKIP FOR GRADING\n",
        "print(Y_test.shape)\n",
        "print('           '+ label_to_emoji(0)+ '    ' + label_to_emoji(1) + '    ' +  label_to_emoji(2)+ '    ' + label_to_emoji(3)+'   ' + label_to_emoji(4))\n",
        "print(pd.crosstab(Y_test, pred_test.reshape(56,), rownames=['Actual'], colnames=['Predicted'], margins=True))\n",
        "plot_confusion_matrix(Y_test, pred_test)\n",
        "# END SKIP FOR GRADING"
      ]
    },
    {
      "cell_type": "markdown",
      "metadata": {
        "id": "Zm2o8SQIcFI1"
      },
      "source": [
        "<font color='blue'><b>What you should remember:</b>\n",
        "- Even with a mere 127 training examples, you can get a reasonably good model for Emojifying.\n",
        "    - This is due to the generalization power word vectors gives you.\n",
        "- Emojify-V1 will perform poorly on sentences such as *\"This movie is not good and not enjoyable\"*\n",
        "    - It doesn't understand combinations of words.\n",
        "    - It just averages all the words' embedding vectors together, without considering the ordering of words.\n",
        "</font>\n",
        "    "
      ]
    },
    {
      "cell_type": "markdown",
      "metadata": {
        "id": "a7sku0zrFwG8"
      },
      "source": [
        "## 2 - Emojifier-V2\n",
        "### Tasks\n",
        "\n",
        "1. Build an Emojifier using a RNN model\n",
        "2. What type of RNN did you use Smple RNN, GRU ... why did you choose the specific type\n",
        "3. Did you use a bidirectional and why\n"
      ]
    },
    {
      "cell_type": "markdown",
      "source": [
        "# Answers"
      ],
      "metadata": {
        "id": "gq995r3weTs9"
      }
    },
    {
      "cell_type": "markdown",
      "source": [
        "Since the sentences from the dataset aren't that long GRU will perform just as well and train faster (due to it's simpler structure) in comparison to LSTM. I've tested both on the current dataset they perform similarly.\n",
        "\n",
        "A bidirectional RNN is preferred since the meaning of a sentence can be influenced by words after the current observed word.\n",
        "\n",
        "Capturing information from both direction can lead to improved performance on tasks where word order and context from both sides are important for determining the meaning or sentiment, such as the current task."
      ],
      "metadata": {
        "id": "fAjCtfYGM0l_"
      }
    },
    {
      "cell_type": "code",
      "source": [
        "import torch\n",
        "import torch.nn as nn\n",
        "import torch.optim as optim\n",
        "from torch.utils.data import TensorDataset, DataLoader\n",
        "import numpy as np\n",
        "import matplotlib.pyplot as plt"
      ],
      "metadata": {
        "id": "yC4UTjw6RIEo"
      },
      "execution_count": 56,
      "outputs": []
    },
    {
      "cell_type": "code",
      "source": [
        "def plot_performance(train_losses, train_accuracies, test_losses, test_accuracies):\n",
        "  fig, (ax1, ax2) = plt.subplots(1, 2, figsize=(12, 5))\n",
        "\n",
        "  ax1.plot(train_losses, label='Train Loss')\n",
        "  ax1.plot(test_losses, label='Test Loss')\n",
        "  ax1.set_title('Loss over Epochs')\n",
        "  ax1.set_xlabel('Epoch')\n",
        "  ax1.set_ylabel('Loss')\n",
        "  ax1.legend()\n",
        "\n",
        "  ax2.plot(train_accuracies, label='Train Accuracy')\n",
        "  ax2.plot(test_accuracies, label='Test Accuracy')\n",
        "  ax2.set_title('Accuracy over Epochs')\n",
        "  ax2.set_xlabel('Epoch')\n",
        "  ax2.set_ylabel('Accuracy')\n",
        "  ax2.legend()\n",
        "\n",
        "  plt.tight_layout()\n",
        "  plt.show()"
      ],
      "metadata": {
        "id": "g2dKgmRgUSAb"
      },
      "execution_count": 55,
      "outputs": []
    },
    {
      "cell_type": "code",
      "source": [
        "def pretrained_embedding_layer(word_to_vec_map, word_to_index):\n",
        "    vocab_len = len(word_to_index) + 1 # + 1 for special padding token\n",
        "\n",
        "    embedding_dim = [v.shape[0] for v in word_to_vec_map.values()][0]\n",
        "\n",
        "    embedding_matrix = np.zeros((vocab_len, embedding_dim))\n",
        "\n",
        "    for word, index in word_to_index.items():\n",
        "         if word in word_to_vec_map:\n",
        "            embedding_matrix[index, :] = word_to_vec_map[word]\n",
        "\n",
        "    return embedding_matrix"
      ],
      "metadata": {
        "id": "Raf8w5FRPSgb"
      },
      "execution_count": 13,
      "outputs": []
    },
    {
      "cell_type": "code",
      "execution_count": 14,
      "metadata": {
        "id": "knT7E6esFwG8"
      },
      "outputs": [],
      "source": [
        "def sentences_to_indices(X, word_to_index, max_len):\n",
        "  m = X.shape[0]\n",
        "  X_ids = np.zeros((m, max_len))\n",
        "  for i in range(m):\n",
        "    sentence_words = X[i].lower().split()\n",
        "    j = 0\n",
        "    for word in sentence_words:\n",
        "      X_ids[i, j] = word_to_index[word]\n",
        "      j = j + 1\n",
        "  return X_ids"
      ]
    },
    {
      "cell_type": "code",
      "source": [
        "word_to_index, index_to_word, word_to_vec_map = read_glove_vecs('glove.6B.50d.txt')"
      ],
      "metadata": {
        "id": "oS8CLyumJ9vH"
      },
      "execution_count": 15,
      "outputs": []
    },
    {
      "cell_type": "code",
      "source": [
        "X_train, Y_train = read_csv('train_emoji.csv')\n",
        "X_test, Y_test = read_csv('tesss.csv')\n",
        "\n",
        "Y_oh_train = convert_to_one_hot(Y_train, C = 5)\n",
        "Y_oh_test = convert_to_one_hot(Y_test, C = 5)"
      ],
      "metadata": {
        "id": "9yLyyMxFJ-VX"
      },
      "execution_count": 16,
      "outputs": []
    },
    {
      "cell_type": "code",
      "source": [
        "maxLen = len(max(X_train, key=len).split())"
      ],
      "metadata": {
        "id": "ow9fmLHgKgsr"
      },
      "execution_count": 24,
      "outputs": []
    },
    {
      "cell_type": "code",
      "source": [
        "class Emojifier_V2(nn.Module):\n",
        "  def __init__(self, embedding_matrix):\n",
        "    super(Emojifier_V2, self).__init__()\n",
        "\n",
        "    vocab_size = embedding_matrix.shape[0]\n",
        "    embedding_dim = embedding_matrix.shape[1]\n",
        "\n",
        "    self.word_embeds = nn.Embedding(vocab_size, embedding_dim)\n",
        "\n",
        "    with torch.no_grad():\n",
        "        self.word_embeds.weight.copy_(torch.from_numpy(embedding_matrix))\n",
        "\n",
        "    self.rnn = nn.GRU(embedding_dim, 128, 2,batch_first=True,dropout=0.5, bidirectional=True)\n",
        "    self.linear = nn.Linear(128 * 2,5)\n",
        "    self.out = nn.Softmax(dim=1)\n",
        "\n",
        "  def forward(self,x,h):\n",
        "      out = self.word_embeds(x)\n",
        "      out, _ = self.rnn(out,h)\n",
        "      out = out[:, -1, :]\n",
        "      out = self.linear(out)\n",
        "      out = self.out(out)\n",
        "      return out\n"
      ],
      "metadata": {
        "id": "rpKZ_worLq7Q"
      },
      "execution_count": 47,
      "outputs": []
    },
    {
      "cell_type": "code",
      "source": [
        "def get_dataloaders(embedding_matrix, batch_size, max_len):\n",
        "  X_train_indices = sentences_to_indices(X_train, word_to_index, maxLen)\n",
        "  X_test_indices = sentences_to_indices(X_test, word_to_index, max_len)\n",
        "\n",
        "  X_train_tensor = torch.from_numpy(X_train_indices).long()\n",
        "  Y_train_tensor = torch.from_numpy(Y_train).long()\n",
        "\n",
        "  X_test_tensor = torch.from_numpy(X_test_indices).long()\n",
        "  Y_test_tensor = torch.from_numpy(Y_test).long()\n",
        "\n",
        "  train_dataset = TensorDataset(X_train_tensor, Y_train_tensor)\n",
        "  train_dataloader = DataLoader(train_dataset, batch_size=batch_size, shuffle=True)\n",
        "\n",
        "  test_dataset = TensorDataset(X_test_tensor, Y_test_tensor)\n",
        "  test_dataloader = DataLoader(test_dataset, batch_size=batch_size, shuffle=False)\n",
        "\n",
        "  return train_dataloader, test_dataloader\n"
      ],
      "metadata": {
        "id": "2MVl21NNGee5"
      },
      "execution_count": 88,
      "outputs": []
    },
    {
      "source": [
        "\n",
        "def train_emojifier_v2(model, train_dataloader, test_dataloader, criterion, optimizer, device, num_epochs):\n",
        "    train_losses = []\n",
        "    train_accuracies = []\n",
        "    test_losses = []\n",
        "    test_accuracies = []\n",
        "\n",
        "    for epoch in range(num_epochs):\n",
        "        model.train()\n",
        "        running_loss = 0.0\n",
        "        correct_predictions = 0\n",
        "        total_predictions = 0\n",
        "\n",
        "        for i, (inputs, labels) in enumerate(train_dataloader):\n",
        "            inputs, labels = inputs.to(device), labels.to(device)\n",
        "\n",
        "            h0 = torch.zeros(2 * 2, inputs.size(0), 128).to(device)\n",
        "\n",
        "            optimizer.zero_grad()\n",
        "\n",
        "            outputs = model(inputs, h0)\n",
        "\n",
        "            loss = criterion(outputs, labels)\n",
        "\n",
        "            loss.backward()\n",
        "            optimizer.step()\n",
        "\n",
        "            running_loss += loss.item()\n",
        "\n",
        "            _, predicted = torch.max(outputs.data, 1)\n",
        "            total_predictions += labels.size(0)\n",
        "            correct_predictions += (predicted == labels).sum().item()\n",
        "\n",
        "        epoch_train_loss = running_loss / (i + 1)\n",
        "        epoch_train_accuracy = correct_predictions / total_predictions\n",
        "\n",
        "        train_losses.append(epoch_train_loss)\n",
        "        train_accuracies.append(epoch_train_accuracy)\n",
        "\n",
        "        with torch.no_grad():\n",
        "            model.eval()\n",
        "            test_running_loss = 0.0\n",
        "            test_correct_predictions = 0\n",
        "            test_total_predictions = 0\n",
        "\n",
        "            for inputs, labels in test_dataloader:\n",
        "                inputs, labels = inputs.to(device), labels.to(device)\n",
        "\n",
        "                h0 = torch.zeros(2 * 2, inputs.size(0), 128).to(device)\n",
        "\n",
        "                outputs = model(inputs, h0)\n",
        "\n",
        "                loss = criterion(outputs, labels)\n",
        "\n",
        "                test_running_loss += loss.item()\n",
        "\n",
        "                _, predicted = torch.max(outputs.data, 1)\n",
        "                test_total_predictions += labels.size(0)\n",
        "                test_correct_predictions += (predicted == labels).sum().item()\n",
        "\n",
        "            epoch_test_loss = test_running_loss / len(test_dataloader)\n",
        "            epoch_test_accuracy = test_correct_predictions / test_total_predictions\n",
        "\n",
        "            test_losses.append(epoch_test_loss)\n",
        "            test_accuracies.append(epoch_test_accuracy)\n",
        "\n",
        "\n",
        "        print(f\"Epoch {epoch+1}/{num_epochs}\")\n",
        "        print(f\"  Train Loss: {epoch_train_loss:.4f}, Train Accuracy: {epoch_train_accuracy:.4f}\")\n",
        "        print(f\"  Test Loss: {epoch_test_loss:.4f}, Test Accuracy: {epoch_test_accuracy:.4f}\")\n",
        "\n",
        "    return train_losses, train_accuracies, test_losses, test_accuracies"
      ],
      "cell_type": "code",
      "metadata": {
        "id": "B-oObC4UUNMX"
      },
      "execution_count": 91,
      "outputs": []
    },
    {
      "cell_type": "code",
      "source": [
        "batch_size = 32\n",
        "learning_rate = 0.001"
      ],
      "metadata": {
        "id": "zlQmMK9WBuDi"
      },
      "execution_count": 92,
      "outputs": []
    },
    {
      "cell_type": "code",
      "source": [
        "\n",
        "embedding_matrix = pretrained_embedding_layer(word_to_vec_map, word_to_index)\n",
        "\n",
        "model_v2 = Emojifier_V2(embedding_matrix)\n",
        "\n",
        "train_dataloader, test_dataloader = get_dataloaders(embedding_matrix, batch_size, maxLen)\n",
        "\n",
        "embedding_dim = embedding_matrix.shape[1]\n",
        "\n",
        "criterion = nn.CrossEntropyLoss()\n",
        "optimizer = optim.Adam(model_v2.parameters(), lr=learning_rate)\n",
        "\n",
        "device = torch.device(\"cuda\" if torch.cuda.is_available() else \"cpu\")\n",
        "model_v2.to(device)\n",
        "print(f\"Using device: {device}\")\n",
        "\n",
        "train_losses_v2, train_accuracies_v2, test_losses_v2, test_accuracies_v2 = train_emojifier_v2(\n",
        "    model_v2,\n",
        "    train_dataloader,\n",
        "    test_dataloader,\n",
        "    criterion,\n",
        "    optimizer,\n",
        "    device,\n",
        "    num_epochs=100\n",
        ")"
      ],
      "metadata": {
        "colab": {
          "base_uri": "https://localhost:8080/"
        },
        "id": "arJUXNclUu8L",
        "outputId": "58965831-1f08-40be-d387-d4e9af834f7a"
      },
      "execution_count": 93,
      "outputs": [
        {
          "output_type": "stream",
          "name": "stdout",
          "text": [
            "Using device: cuda\n",
            "Epoch 1/100\n",
            "  Train Loss: 1.5994, Train Accuracy: 0.2803\n",
            "  Test Loss: 1.5861, Test Accuracy: 0.3214\n",
            "Epoch 2/100\n",
            "  Train Loss: 1.5848, Train Accuracy: 0.2879\n",
            "  Test Loss: 1.5616, Test Accuracy: 0.3214\n",
            "Epoch 3/100\n",
            "  Train Loss: 1.5941, Train Accuracy: 0.2879\n",
            "  Test Loss: 1.5454, Test Accuracy: 0.3214\n",
            "Epoch 4/100\n",
            "  Train Loss: 1.5630, Train Accuracy: 0.2576\n",
            "  Test Loss: 1.5510, Test Accuracy: 0.2857\n",
            "Epoch 5/100\n",
            "  Train Loss: 1.5740, Train Accuracy: 0.2727\n",
            "  Test Loss: 1.5438, Test Accuracy: 0.2857\n",
            "Epoch 6/100\n",
            "  Train Loss: 1.5345, Train Accuracy: 0.2727\n",
            "  Test Loss: 1.5278, Test Accuracy: 0.3750\n",
            "Epoch 7/100\n",
            "  Train Loss: 1.4971, Train Accuracy: 0.4394\n",
            "  Test Loss: 1.4998, Test Accuracy: 0.4643\n",
            "Epoch 8/100\n",
            "  Train Loss: 1.4635, Train Accuracy: 0.4848\n",
            "  Test Loss: 1.4513, Test Accuracy: 0.4643\n",
            "Epoch 9/100\n",
            "  Train Loss: 1.4002, Train Accuracy: 0.5303\n",
            "  Test Loss: 1.4072, Test Accuracy: 0.5179\n",
            "Epoch 10/100\n",
            "  Train Loss: 1.3641, Train Accuracy: 0.5152\n",
            "  Test Loss: 1.3930, Test Accuracy: 0.5357\n",
            "Epoch 11/100\n",
            "  Train Loss: 1.2857, Train Accuracy: 0.6136\n",
            "  Test Loss: 1.4574, Test Accuracy: 0.4464\n",
            "Epoch 12/100\n",
            "  Train Loss: 1.3239, Train Accuracy: 0.5379\n",
            "  Test Loss: 1.4043, Test Accuracy: 0.5000\n",
            "Epoch 13/100\n",
            "  Train Loss: 1.2380, Train Accuracy: 0.6667\n",
            "  Test Loss: 1.3145, Test Accuracy: 0.6071\n",
            "Epoch 14/100\n",
            "  Train Loss: 1.2032, Train Accuracy: 0.6591\n",
            "  Test Loss: 1.3318, Test Accuracy: 0.5893\n",
            "Epoch 15/100\n",
            "  Train Loss: 1.2293, Train Accuracy: 0.7348\n",
            "  Test Loss: 1.2439, Test Accuracy: 0.6964\n",
            "Epoch 16/100\n",
            "  Train Loss: 1.1447, Train Accuracy: 0.7727\n",
            "  Test Loss: 1.2282, Test Accuracy: 0.6964\n",
            "Epoch 17/100\n",
            "  Train Loss: 1.1017, Train Accuracy: 0.7955\n",
            "  Test Loss: 1.2207, Test Accuracy: 0.7321\n",
            "Epoch 18/100\n",
            "  Train Loss: 1.1411, Train Accuracy: 0.7576\n",
            "  Test Loss: 1.2383, Test Accuracy: 0.6964\n",
            "Epoch 19/100\n",
            "  Train Loss: 1.1710, Train Accuracy: 0.7727\n",
            "  Test Loss: 1.2015, Test Accuracy: 0.7143\n",
            "Epoch 20/100\n",
            "  Train Loss: 1.0542, Train Accuracy: 0.8182\n",
            "  Test Loss: 1.1912, Test Accuracy: 0.7321\n",
            "Epoch 21/100\n",
            "  Train Loss: 1.1027, Train Accuracy: 0.8258\n",
            "  Test Loss: 1.1785, Test Accuracy: 0.7143\n",
            "Epoch 22/100\n",
            "  Train Loss: 1.1258, Train Accuracy: 0.8182\n",
            "  Test Loss: 1.1789, Test Accuracy: 0.7143\n",
            "Epoch 23/100\n",
            "  Train Loss: 1.0311, Train Accuracy: 0.8561\n",
            "  Test Loss: 1.2070, Test Accuracy: 0.7321\n",
            "Epoch 24/100\n",
            "  Train Loss: 1.0593, Train Accuracy: 0.8788\n",
            "  Test Loss: 1.1556, Test Accuracy: 0.7857\n",
            "Epoch 25/100\n",
            "  Train Loss: 1.0663, Train Accuracy: 0.8636\n",
            "  Test Loss: 1.1764, Test Accuracy: 0.7679\n",
            "Epoch 26/100\n",
            "  Train Loss: 0.9948, Train Accuracy: 0.9318\n",
            "  Test Loss: 1.1908, Test Accuracy: 0.6964\n",
            "Epoch 27/100\n",
            "  Train Loss: 0.9943, Train Accuracy: 0.9167\n",
            "  Test Loss: 1.0718, Test Accuracy: 0.8750\n",
            "Epoch 28/100\n",
            "  Train Loss: 0.9836, Train Accuracy: 0.9242\n",
            "  Test Loss: 1.0973, Test Accuracy: 0.8214\n",
            "Epoch 29/100\n",
            "  Train Loss: 0.9625, Train Accuracy: 0.9394\n",
            "  Test Loss: 1.1135, Test Accuracy: 0.8036\n",
            "Epoch 30/100\n",
            "  Train Loss: 0.9823, Train Accuracy: 0.9621\n",
            "  Test Loss: 1.1544, Test Accuracy: 0.7679\n",
            "Epoch 31/100\n",
            "  Train Loss: 0.9774, Train Accuracy: 0.9697\n",
            "  Test Loss: 1.1314, Test Accuracy: 0.7679\n",
            "Epoch 32/100\n",
            "  Train Loss: 0.9365, Train Accuracy: 0.9697\n",
            "  Test Loss: 1.0901, Test Accuracy: 0.8214\n",
            "Epoch 33/100\n",
            "  Train Loss: 0.9525, Train Accuracy: 0.9470\n",
            "  Test Loss: 1.0889, Test Accuracy: 0.8393\n",
            "Epoch 34/100\n",
            "  Train Loss: 0.9438, Train Accuracy: 0.9545\n",
            "  Test Loss: 1.1211, Test Accuracy: 0.7500\n",
            "Epoch 35/100\n",
            "  Train Loss: 0.9376, Train Accuracy: 0.9697\n",
            "  Test Loss: 1.1547, Test Accuracy: 0.7321\n",
            "Epoch 36/100\n",
            "  Train Loss: 0.9213, Train Accuracy: 0.9848\n",
            "  Test Loss: 1.1546, Test Accuracy: 0.7321\n",
            "Epoch 37/100\n",
            "  Train Loss: 0.9231, Train Accuracy: 0.9773\n",
            "  Test Loss: 1.1484, Test Accuracy: 0.7321\n",
            "Epoch 38/100\n",
            "  Train Loss: 0.9196, Train Accuracy: 0.9848\n",
            "  Test Loss: 1.1177, Test Accuracy: 0.7679\n",
            "Epoch 39/100\n",
            "  Train Loss: 0.9182, Train Accuracy: 0.9848\n",
            "  Test Loss: 1.0935, Test Accuracy: 0.8393\n",
            "Epoch 40/100\n",
            "  Train Loss: 0.9184, Train Accuracy: 0.9848\n",
            "  Test Loss: 1.0980, Test Accuracy: 0.8036\n",
            "Epoch 41/100\n",
            "  Train Loss: 0.9182, Train Accuracy: 0.9848\n",
            "  Test Loss: 1.0987, Test Accuracy: 0.8036\n",
            "Epoch 42/100\n",
            "  Train Loss: 0.9180, Train Accuracy: 0.9848\n",
            "  Test Loss: 1.0991, Test Accuracy: 0.8036\n",
            "Epoch 43/100\n",
            "  Train Loss: 0.9177, Train Accuracy: 0.9848\n",
            "  Test Loss: 1.1015, Test Accuracy: 0.8036\n",
            "Epoch 44/100\n",
            "  Train Loss: 0.9174, Train Accuracy: 0.9848\n",
            "  Test Loss: 1.1035, Test Accuracy: 0.8036\n",
            "Epoch 45/100\n",
            "  Train Loss: 0.9173, Train Accuracy: 0.9848\n",
            "  Test Loss: 1.1047, Test Accuracy: 0.8036\n",
            "Epoch 46/100\n",
            "  Train Loss: 0.9176, Train Accuracy: 0.9848\n",
            "  Test Loss: 1.1054, Test Accuracy: 0.8036\n",
            "Epoch 47/100\n",
            "  Train Loss: 0.9172, Train Accuracy: 0.9848\n",
            "  Test Loss: 1.1063, Test Accuracy: 0.8036\n",
            "Epoch 48/100\n",
            "  Train Loss: 0.9160, Train Accuracy: 0.9848\n",
            "  Test Loss: 1.1069, Test Accuracy: 0.8036\n",
            "Epoch 49/100\n",
            "  Train Loss: 0.9161, Train Accuracy: 0.9848\n",
            "  Test Loss: 1.1094, Test Accuracy: 0.8036\n",
            "Epoch 50/100\n",
            "  Train Loss: 0.9128, Train Accuracy: 0.9924\n",
            "  Test Loss: 1.1110, Test Accuracy: 0.8036\n",
            "Epoch 51/100\n",
            "  Train Loss: 0.9559, Train Accuracy: 0.9924\n",
            "  Test Loss: 1.1105, Test Accuracy: 0.8036\n",
            "Epoch 52/100\n",
            "  Train Loss: 0.9121, Train Accuracy: 0.9924\n",
            "  Test Loss: 1.1102, Test Accuracy: 0.8036\n",
            "Epoch 53/100\n",
            "  Train Loss: 0.9121, Train Accuracy: 0.9924\n",
            "  Test Loss: 1.1091, Test Accuracy: 0.8036\n",
            "Epoch 54/100\n",
            "  Train Loss: 0.9119, Train Accuracy: 0.9924\n",
            "  Test Loss: 1.1083, Test Accuracy: 0.8036\n",
            "Epoch 55/100\n",
            "  Train Loss: 0.9118, Train Accuracy: 0.9924\n",
            "  Test Loss: 1.1075, Test Accuracy: 0.8036\n",
            "Epoch 56/100\n",
            "  Train Loss: 0.9120, Train Accuracy: 0.9924\n",
            "  Test Loss: 1.1069, Test Accuracy: 0.8036\n",
            "Epoch 57/100\n",
            "  Train Loss: 0.9118, Train Accuracy: 0.9924\n",
            "  Test Loss: 1.1063, Test Accuracy: 0.8036\n",
            "Epoch 58/100\n",
            "  Train Loss: 0.9117, Train Accuracy: 0.9924\n",
            "  Test Loss: 1.1063, Test Accuracy: 0.8036\n",
            "Epoch 59/100\n",
            "  Train Loss: 0.9118, Train Accuracy: 0.9924\n",
            "  Test Loss: 1.1073, Test Accuracy: 0.8036\n",
            "Epoch 60/100\n",
            "  Train Loss: 0.9117, Train Accuracy: 0.9924\n",
            "  Test Loss: 1.1100, Test Accuracy: 0.8036\n",
            "Epoch 61/100\n",
            "  Train Loss: 0.9117, Train Accuracy: 0.9924\n",
            "  Test Loss: 1.1156, Test Accuracy: 0.8036\n",
            "Epoch 62/100\n",
            "  Train Loss: 0.9116, Train Accuracy: 0.9924\n",
            "  Test Loss: 1.1208, Test Accuracy: 0.7857\n",
            "Epoch 63/100\n",
            "  Train Loss: 0.9115, Train Accuracy: 0.9924\n",
            "  Test Loss: 1.1228, Test Accuracy: 0.7857\n",
            "Epoch 64/100\n",
            "  Train Loss: 0.9116, Train Accuracy: 0.9924\n",
            "  Test Loss: 1.1238, Test Accuracy: 0.7857\n",
            "Epoch 65/100\n",
            "  Train Loss: 0.9116, Train Accuracy: 0.9924\n",
            "  Test Loss: 1.1242, Test Accuracy: 0.7857\n",
            "Epoch 66/100\n",
            "  Train Loss: 0.9115, Train Accuracy: 0.9924\n",
            "  Test Loss: 1.1239, Test Accuracy: 0.7857\n",
            "Epoch 67/100\n",
            "  Train Loss: 0.9116, Train Accuracy: 0.9924\n",
            "  Test Loss: 1.1238, Test Accuracy: 0.7857\n",
            "Epoch 68/100\n",
            "  Train Loss: 0.9116, Train Accuracy: 0.9924\n",
            "  Test Loss: 1.1237, Test Accuracy: 0.7857\n",
            "Epoch 69/100\n",
            "  Train Loss: 0.9116, Train Accuracy: 0.9924\n",
            "  Test Loss: 1.1245, Test Accuracy: 0.7857\n",
            "Epoch 70/100\n",
            "  Train Loss: 0.9116, Train Accuracy: 0.9924\n",
            "  Test Loss: 1.1254, Test Accuracy: 0.7857\n",
            "Epoch 71/100\n",
            "  Train Loss: 0.9115, Train Accuracy: 0.9924\n",
            "  Test Loss: 1.1258, Test Accuracy: 0.7857\n",
            "Epoch 72/100\n",
            "  Train Loss: 0.9115, Train Accuracy: 0.9924\n",
            "  Test Loss: 1.1262, Test Accuracy: 0.7857\n",
            "Epoch 73/100\n",
            "  Train Loss: 0.9115, Train Accuracy: 0.9924\n",
            "  Test Loss: 1.1264, Test Accuracy: 0.7857\n",
            "Epoch 74/100\n",
            "  Train Loss: 0.9114, Train Accuracy: 0.9924\n",
            "  Test Loss: 1.1265, Test Accuracy: 0.7857\n",
            "Epoch 75/100\n",
            "  Train Loss: 0.9115, Train Accuracy: 0.9924\n",
            "  Test Loss: 1.1269, Test Accuracy: 0.7857\n",
            "Epoch 76/100\n",
            "  Train Loss: 0.9114, Train Accuracy: 0.9924\n",
            "  Test Loss: 1.1272, Test Accuracy: 0.7857\n",
            "Epoch 77/100\n",
            "  Train Loss: 0.9115, Train Accuracy: 0.9924\n",
            "  Test Loss: 1.1275, Test Accuracy: 0.7857\n",
            "Epoch 78/100\n",
            "  Train Loss: 0.9114, Train Accuracy: 0.9924\n",
            "  Test Loss: 1.1279, Test Accuracy: 0.7857\n",
            "Epoch 79/100\n",
            "  Train Loss: 0.9115, Train Accuracy: 0.9924\n",
            "  Test Loss: 1.1282, Test Accuracy: 0.7857\n",
            "Epoch 80/100\n",
            "  Train Loss: 0.9114, Train Accuracy: 0.9924\n",
            "  Test Loss: 1.1287, Test Accuracy: 0.7857\n",
            "Epoch 81/100\n",
            "  Train Loss: 0.9114, Train Accuracy: 0.9924\n",
            "  Test Loss: 1.1295, Test Accuracy: 0.7679\n",
            "Epoch 82/100\n",
            "  Train Loss: 0.9116, Train Accuracy: 0.9924\n",
            "  Test Loss: 1.1299, Test Accuracy: 0.7679\n",
            "Epoch 83/100\n",
            "  Train Loss: 0.9114, Train Accuracy: 0.9924\n",
            "  Test Loss: 1.1301, Test Accuracy: 0.7679\n",
            "Epoch 84/100\n",
            "  Train Loss: 0.9114, Train Accuracy: 0.9924\n",
            "  Test Loss: 1.1301, Test Accuracy: 0.7679\n",
            "Epoch 85/100\n",
            "  Train Loss: 0.9114, Train Accuracy: 0.9924\n",
            "  Test Loss: 1.1302, Test Accuracy: 0.7679\n",
            "Epoch 86/100\n",
            "  Train Loss: 0.9113, Train Accuracy: 0.9924\n",
            "  Test Loss: 1.1302, Test Accuracy: 0.7679\n",
            "Epoch 87/100\n",
            "  Train Loss: 0.9114, Train Accuracy: 0.9924\n",
            "  Test Loss: 1.1301, Test Accuracy: 0.7679\n",
            "Epoch 88/100\n",
            "  Train Loss: 0.9114, Train Accuracy: 0.9924\n",
            "  Test Loss: 1.1303, Test Accuracy: 0.7679\n",
            "Epoch 89/100\n",
            "  Train Loss: 0.9113, Train Accuracy: 0.9924\n",
            "  Test Loss: 1.1310, Test Accuracy: 0.7679\n",
            "Epoch 90/100\n",
            "  Train Loss: 0.9550, Train Accuracy: 0.9924\n",
            "  Test Loss: 1.1321, Test Accuracy: 0.7679\n",
            "Epoch 91/100\n",
            "  Train Loss: 0.9113, Train Accuracy: 0.9924\n",
            "  Test Loss: 1.1343, Test Accuracy: 0.7679\n",
            "Epoch 92/100\n",
            "  Train Loss: 0.9113, Train Accuracy: 0.9924\n",
            "  Test Loss: 1.1367, Test Accuracy: 0.7679\n",
            "Epoch 93/100\n",
            "  Train Loss: 0.9113, Train Accuracy: 0.9924\n",
            "  Test Loss: 1.1392, Test Accuracy: 0.7679\n",
            "Epoch 94/100\n",
            "  Train Loss: 0.9520, Train Accuracy: 0.9924\n",
            "  Test Loss: 1.1449, Test Accuracy: 0.7679\n",
            "Epoch 95/100\n",
            "  Train Loss: 0.9112, Train Accuracy: 0.9924\n",
            "  Test Loss: 1.1522, Test Accuracy: 0.7500\n",
            "Epoch 96/100\n",
            "  Train Loss: 0.9115, Train Accuracy: 0.9924\n",
            "  Test Loss: 1.1512, Test Accuracy: 0.7500\n",
            "Epoch 97/100\n",
            "  Train Loss: 0.9116, Train Accuracy: 0.9924\n",
            "  Test Loss: 1.1503, Test Accuracy: 0.7500\n",
            "Epoch 98/100\n",
            "  Train Loss: 0.9114, Train Accuracy: 0.9924\n",
            "  Test Loss: 1.1475, Test Accuracy: 0.7500\n",
            "Epoch 99/100\n",
            "  Train Loss: 0.9114, Train Accuracy: 0.9924\n",
            "  Test Loss: 1.1441, Test Accuracy: 0.7500\n",
            "Epoch 100/100\n",
            "  Train Loss: 0.9113, Train Accuracy: 0.9924\n",
            "  Test Loss: 1.1426, Test Accuracy: 0.7679\n"
          ]
        }
      ]
    },
    {
      "cell_type": "markdown",
      "source": [
        "# Plotting"
      ],
      "metadata": {
        "id": "bNRwKgifJf_1"
      }
    },
    {
      "cell_type": "code",
      "source": [
        "plot_performance(train_losses_v2, train_accuracies_v2, test_losses_v2, test_accuracies_v2)"
      ],
      "metadata": {
        "colab": {
          "base_uri": "https://localhost:8080/",
          "height": 507
        },
        "id": "WSiO0HFmO-8I",
        "outputId": "bf3a4dda-2ec1-473c-fac9-f22e349b9aa2"
      },
      "execution_count": 94,
      "outputs": [
        {
          "output_type": "display_data",
          "data": {
            "text/plain": [
              "<Figure size 1200x500 with 2 Axes>"
            ],
            "image/png": "[encoded data removed]"
          },
          "metadata": {}
        }
      ]
    },
    {
      "cell_type": "markdown",
      "metadata": {
        "id": "6FUriseOFwG8"
      },
      "source": [
        "## 3 - Emojifier-V3\n",
        "### Tasks\n",
        "\n",
        "1. Build an Emojifier using a Transformer based model\n",
        "2. What type of Transformer based did you use Full transformer, Decoder only ... why did you choose the specific type\n",
        "3. Can the problem be solved with an Full transformer only model and how?\n",
        "4. Can the problem be solved with an Decoder only model and how?\n",
        "5. Can the problem be solved with an Encoder only model and how?\n"
      ]
    },
    {
      "cell_type": "markdown",
      "source": [
        "# Answers"
      ],
      "metadata": {
        "id": "s5Xg8NaFdlq-"
      }
    },
    {
      "cell_type": "markdown",
      "source": [
        "2. The current problem is text classification. Encoder-only models are well-suited for tasks where you need to understand the context and representation of a given input sequence to perform a classification or analysis on that sequence.\n",
        "\n",
        "3. It can be solved using a Full transformer but would be inefficient due to the fact that we will use only the encoder portion.\n",
        "\n",
        "4. We can also solve the problem using decoder only by processing the final hidden state of the decoder using a linear layer in order to classify.\n",
        "\n",
        "5. Since the solution bellow use Encoder-only transformer, I will outline the steps.\n",
        "\n",
        "\n",
        "\n",
        "      1. Input sentence is passed through an embedding layer\n",
        "      2. The embedded sequence is processed by multiple encoder layers\n",
        "      3. After which we do average pooling (summarizing the sentence's representation)\n",
        "      4. Final classification layer\n",
        "\n"
      ],
      "metadata": {
        "id": "OvUCNqdeYmMf"
      }
    },
    {
      "cell_type": "code",
      "execution_count": 96,
      "metadata": {
        "id": "vDkuc6wTxeSt"
      },
      "outputs": [],
      "source": [
        "class Emojifier_V3(nn.Module):\n",
        "    def __init__(self, embedding_matrix, max_len, num_heads=2, num_layers=2, dim_feedforward=128):\n",
        "        super(Emojifier_V3, self).__init__()\n",
        "\n",
        "        vocab_size = embedding_matrix.shape[0]\n",
        "        embedding_dim = embedding_matrix.shape[1]\n",
        "        self.max_len = max_len\n",
        "\n",
        "        self.word_embeds = nn.Embedding(vocab_size, embedding_dim)\n",
        "        with torch.no_grad():\n",
        "            self.word_embeds.weight.copy_(torch.from_numpy(embedding_matrix))\n",
        "\n",
        "        encoder_layer = nn.TransformerEncoderLayer(\n",
        "            d_model=embedding_dim,\n",
        "            nhead=num_heads,\n",
        "            dim_feedforward=dim_feedforward\n",
        "        )\n",
        "\n",
        "        self.transformer_encoder = nn.TransformerEncoder(\n",
        "            encoder_layer,\n",
        "            num_layers=num_layers\n",
        "        )\n",
        "\n",
        "        self.pool = nn.AdaptiveAvgPool1d(1)\n",
        "        self.linear = nn.Linear(embedding_dim, 5)\n",
        "        self.out = nn.Softmax(dim=1)\n",
        "\n",
        "    def forward(self, x, mask=None):\n",
        "        embedded = self.word_embeds(x)\n",
        "\n",
        "        embedded = embedded.permute(1, 0, 2) # Transformer expects (sequence_length, batch_size, feature_dim)\n",
        "\n",
        "        transformer_output = self.transformer_encoder(embedded, src_key_padding_mask=mask)\n",
        "\n",
        "        transformer_output = transformer_output.permute(1, 2, 0) # (batch, features, sequence) for AdaptiveAvgPool1d\n",
        "\n",
        "        pooled_output = self.pool(transformer_output).squeeze(2) #(batch_size, embedding_dim, 1)\n",
        "\n",
        "        logits = self.linear(pooled_output)\n",
        "        output_probs = self.out(logits)\n",
        "\n",
        "        return output_probs"
      ]
    },
    {
      "cell_type": "code",
      "source": [
        "def train_emojifier_v3(model, train_dataloader, test_dataloader, criterion, optimizer, device, num_epochs, padding_idx=0):\n",
        "    train_losses = []\n",
        "    train_accuracies = []\n",
        "    test_losses = []\n",
        "    test_accuracies = []\n",
        "\n",
        "    for epoch in range(num_epochs):\n",
        "        model.train()\n",
        "        running_loss = 0.0\n",
        "        correct_predictions = 0\n",
        "        total_predictions = 0\n",
        "\n",
        "\n",
        "        for i, (inputs, labels) in enumerate(train_dataloader):\n",
        "            inputs, labels = inputs.to(device), labels.to(device)\n",
        "            padding_mask = (inputs == padding_idx).to(device)\n",
        "\n",
        "            optimizer.zero_grad()\n",
        "\n",
        "            outputs = model(inputs, mask=padding_mask)\n",
        "\n",
        "            loss = criterion(outputs, labels)\n",
        "\n",
        "            loss.backward()\n",
        "            optimizer.step()\n",
        "\n",
        "            running_loss += loss.item()\n",
        "\n",
        "            _, predicted = torch.max(outputs.data, 1)\n",
        "            total_predictions += labels.size(0)\n",
        "            correct_predictions += (predicted == labels).sum().item()\n",
        "\n",
        "        epoch_train_loss = running_loss / (i + 1)\n",
        "        epoch_train_accuracy = correct_predictions / total_predictions\n",
        "\n",
        "        train_losses.append(epoch_train_loss)\n",
        "        train_accuracies.append(epoch_train_accuracy)\n",
        "\n",
        "\n",
        "        with torch.no_grad():\n",
        "            model.eval()\n",
        "            test_running_loss = 0.0\n",
        "            test_correct_predictions = 0\n",
        "            test_total_predictions = 0\n",
        "\n",
        "            for inputs, labels in test_dataloader:\n",
        "                inputs, labels = inputs.to(device), labels.to(device)\n",
        "                padding_mask = (inputs == padding_idx).to(device)\n",
        "\n",
        "                outputs = model(inputs, mask=padding_mask)\n",
        "\n",
        "                loss = criterion(outputs, labels)\n",
        "\n",
        "                test_running_loss += loss.item()\n",
        "\n",
        "                _, predicted = torch.max(outputs.data, 1)\n",
        "                test_total_predictions += labels.size(0)\n",
        "                test_correct_predictions += (predicted == labels).sum().item()\n",
        "\n",
        "            epoch_test_loss = test_running_loss / len(test_dataloader)\n",
        "            epoch_test_accuracy = test_correct_predictions / test_total_predictions\n",
        "\n",
        "            test_losses.append(epoch_test_loss)\n",
        "            test_accuracies.append(epoch_test_accuracy)\n",
        "\n",
        "\n",
        "        print(f\"Epoch {epoch+1}/{num_epochs}\")\n",
        "        print(f\"  Train Loss: {epoch_train_loss:.4f}, Train Accuracy: {epoch_train_accuracy:.4f}\")\n",
        "        print(f\"  Test Loss: {epoch_test_loss:.4f}, Test Accuracy: {epoch_test_accuracy:.4f}\")\n",
        "\n",
        "    return train_losses, train_accuracies, test_losses, test_accuracies"
      ],
      "metadata": {
        "id": "wMf0ZujXTXkA"
      },
      "execution_count": 95,
      "outputs": []
    },
    {
      "cell_type": "code",
      "source": [
        "embedding_matrix = pretrained_embedding_layer(word_to_vec_map, word_to_index)\n",
        "\n",
        "model_v3 = Emojifier_V3(embedding_matrix, maxLen)\n",
        "\n",
        "device = torch.device(\"cuda\" if torch.cuda.is_available() else \"cpu\")\n",
        "model_v3.to(device)\n",
        "print(f\"Using device: {device}\")\n",
        "\n",
        "train_dataloader, test_dataloader = get_dataloaders(embedding_matrix, batch_size, maxLen)\n",
        "\n",
        "criterion = nn.CrossEntropyLoss()\n",
        "optimizer_v3 = optim.Adam(model_v3.parameters(), lr=learning_rate)\n",
        "\n",
        "train_losses_v3, train_accuracies_v3, test_losses_v3, test_accuracies_v3 = train_emojifier_v3(\n",
        "    model_v3,\n",
        "    train_dataloader,\n",
        "    test_dataloader,\n",
        "    criterion,\n",
        "    optimizer_v3,\n",
        "    device,\n",
        "    num_epochs=100\n",
        ")"
      ],
      "metadata": {
        "colab": {
          "base_uri": "https://localhost:8080/"
        },
        "id": "PP2cXPI_Tk0L",
        "outputId": "0455217d-a599-42ea-9a72-2bf223942c50"
      },
      "execution_count": 85,
      "outputs": [
        {
          "output_type": "stream",
          "name": "stderr",
          "text": [
            "/usr/local/lib/python3.11/dist-packages/torch/nn/modules/transformer.py:385: UserWarning: enable_nested_tensor is True, but self.use_nested_tensor is False because encoder_layer.self_attn.batch_first was not True(use batch_first for better inference performance)\n",
            "  warnings.warn(\n"
          ]
        },
        {
          "output_type": "stream",
          "name": "stdout",
          "text": [
            "Using device: cuda\n",
            "Epoch 1/100\n",
            "  Train Loss: 1.5906, Train Accuracy: 0.2197\n",
            "  Test Loss: 1.5662, Test Accuracy: 0.3214\n",
            "Epoch 2/100\n",
            "  Train Loss: 1.5587, Train Accuracy: 0.3106\n",
            "  Test Loss: 1.5422, Test Accuracy: 0.3571\n",
            "Epoch 3/100\n",
            "  Train Loss: 1.5444, Train Accuracy: 0.3636\n",
            "  Test Loss: 1.5260, Test Accuracy: 0.3750\n",
            "Epoch 4/100\n",
            "  Train Loss: 1.5286, Train Accuracy: 0.3788\n",
            "  Test Loss: 1.5010, Test Accuracy: 0.4107\n",
            "Epoch 5/100\n",
            "  Train Loss: 1.4733, Train Accuracy: 0.4318\n",
            "  Test Loss: 1.4772, Test Accuracy: 0.4643\n",
            "Epoch 6/100\n",
            "  Train Loss: 1.4413, Train Accuracy: 0.5530\n",
            "  Test Loss: 1.4521, Test Accuracy: 0.5179\n",
            "Epoch 7/100\n",
            "  Train Loss: 1.4091, Train Accuracy: 0.6061\n",
            "  Test Loss: 1.4363, Test Accuracy: 0.5179\n",
            "Epoch 8/100\n",
            "  Train Loss: 1.3492, Train Accuracy: 0.5985\n",
            "  Test Loss: 1.3969, Test Accuracy: 0.6250\n",
            "Epoch 9/100\n",
            "  Train Loss: 1.3101, Train Accuracy: 0.6515\n",
            "  Test Loss: 1.3487, Test Accuracy: 0.5714\n",
            "Epoch 10/100\n",
            "  Train Loss: 1.2354, Train Accuracy: 0.6742\n",
            "  Test Loss: 1.3212, Test Accuracy: 0.5893\n",
            "Epoch 11/100\n",
            "  Train Loss: 1.2283, Train Accuracy: 0.7348\n",
            "  Test Loss: 1.2867, Test Accuracy: 0.6607\n",
            "Epoch 12/100\n",
            "  Train Loss: 1.1754, Train Accuracy: 0.8182\n",
            "  Test Loss: 1.2446, Test Accuracy: 0.6964\n",
            "Epoch 13/100\n",
            "  Train Loss: 1.1091, Train Accuracy: 0.8409\n",
            "  Test Loss: 1.1863, Test Accuracy: 0.7857\n",
            "Epoch 14/100\n",
            "  Train Loss: 1.0965, Train Accuracy: 0.8864\n",
            "  Test Loss: 1.1828, Test Accuracy: 0.7500\n",
            "Epoch 15/100\n",
            "  Train Loss: 1.0621, Train Accuracy: 0.9318\n",
            "  Test Loss: 1.1488, Test Accuracy: 0.7857\n",
            "Epoch 16/100\n",
            "  Train Loss: 1.0122, Train Accuracy: 0.9394\n",
            "  Test Loss: 1.1063, Test Accuracy: 0.8571\n",
            "Epoch 17/100\n",
            "  Train Loss: 0.9963, Train Accuracy: 0.9470\n",
            "  Test Loss: 1.0897, Test Accuracy: 0.8929\n",
            "Epoch 18/100\n",
            "  Train Loss: 0.9871, Train Accuracy: 0.9545\n",
            "  Test Loss: 1.0943, Test Accuracy: 0.8571\n",
            "Epoch 19/100\n",
            "  Train Loss: 0.9711, Train Accuracy: 0.9697\n",
            "  Test Loss: 1.0737, Test Accuracy: 0.8750\n",
            "Epoch 20/100\n",
            "  Train Loss: 0.9547, Train Accuracy: 0.9773\n",
            "  Test Loss: 1.1004, Test Accuracy: 0.8036\n",
            "Epoch 21/100\n",
            "  Train Loss: 0.9498, Train Accuracy: 0.9848\n",
            "  Test Loss: 1.0822, Test Accuracy: 0.8750\n",
            "Epoch 22/100\n",
            "  Train Loss: 0.9346, Train Accuracy: 0.9924\n",
            "  Test Loss: 1.0480, Test Accuracy: 0.8929\n",
            "Epoch 23/100\n",
            "  Train Loss: 0.9325, Train Accuracy: 0.9848\n",
            "  Test Loss: 1.0476, Test Accuracy: 0.8929\n",
            "Epoch 24/100\n",
            "  Train Loss: 0.9271, Train Accuracy: 0.9924\n",
            "  Test Loss: 1.0592, Test Accuracy: 0.8750\n",
            "Epoch 25/100\n",
            "  Train Loss: 0.9239, Train Accuracy: 0.9924\n",
            "  Test Loss: 1.0614, Test Accuracy: 0.8393\n",
            "Epoch 26/100\n",
            "  Train Loss: 0.9228, Train Accuracy: 0.9924\n",
            "  Test Loss: 1.0567, Test Accuracy: 0.8929\n",
            "Epoch 27/100\n",
            "  Train Loss: 0.9214, Train Accuracy: 0.9924\n",
            "  Test Loss: 1.0563, Test Accuracy: 0.8929\n",
            "Epoch 28/100\n",
            "  Train Loss: 0.9198, Train Accuracy: 0.9924\n",
            "  Test Loss: 1.0497, Test Accuracy: 0.8929\n",
            "Epoch 29/100\n",
            "  Train Loss: 0.9189, Train Accuracy: 0.9924\n",
            "  Test Loss: 1.0428, Test Accuracy: 0.8929\n",
            "Epoch 30/100\n",
            "  Train Loss: 0.9180, Train Accuracy: 0.9924\n",
            "  Test Loss: 1.0398, Test Accuracy: 0.8929\n",
            "Epoch 31/100\n",
            "  Train Loss: 0.9187, Train Accuracy: 0.9924\n",
            "  Test Loss: 1.0382, Test Accuracy: 0.8929\n",
            "Epoch 32/100\n",
            "  Train Loss: 0.9185, Train Accuracy: 0.9924\n",
            "  Test Loss: 1.0387, Test Accuracy: 0.8929\n",
            "Epoch 33/100\n",
            "  Train Loss: 0.9173, Train Accuracy: 0.9924\n",
            "  Test Loss: 1.0396, Test Accuracy: 0.9107\n",
            "Epoch 34/100\n",
            "  Train Loss: 0.9168, Train Accuracy: 0.9924\n",
            "  Test Loss: 1.0394, Test Accuracy: 0.9107\n",
            "Epoch 35/100\n",
            "  Train Loss: 0.9176, Train Accuracy: 0.9924\n",
            "  Test Loss: 1.0372, Test Accuracy: 0.8929\n",
            "Epoch 36/100\n",
            "  Train Loss: 0.9163, Train Accuracy: 0.9924\n",
            "  Test Loss: 1.0332, Test Accuracy: 0.8929\n",
            "Epoch 37/100\n",
            "  Train Loss: 0.9167, Train Accuracy: 0.9924\n",
            "  Test Loss: 1.0315, Test Accuracy: 0.8929\n",
            "Epoch 38/100\n",
            "  Train Loss: 0.9156, Train Accuracy: 0.9924\n",
            "  Test Loss: 1.0291, Test Accuracy: 0.8929\n",
            "Epoch 39/100\n",
            "  Train Loss: 0.9153, Train Accuracy: 0.9924\n",
            "  Test Loss: 1.0287, Test Accuracy: 0.8929\n",
            "Epoch 40/100\n",
            "  Train Loss: 0.9149, Train Accuracy: 0.9924\n",
            "  Test Loss: 1.0283, Test Accuracy: 0.8929\n",
            "Epoch 41/100\n",
            "  Train Loss: 0.9145, Train Accuracy: 0.9924\n",
            "  Test Loss: 1.0280, Test Accuracy: 0.8929\n",
            "Epoch 42/100\n",
            "  Train Loss: 0.9156, Train Accuracy: 0.9924\n",
            "  Test Loss: 1.0303, Test Accuracy: 0.8929\n",
            "Epoch 43/100\n",
            "  Train Loss: 0.9144, Train Accuracy: 0.9924\n",
            "  Test Loss: 1.0325, Test Accuracy: 0.8929\n",
            "Epoch 44/100\n",
            "  Train Loss: 0.9144, Train Accuracy: 0.9924\n",
            "  Test Loss: 1.0338, Test Accuracy: 0.8929\n",
            "Epoch 45/100\n",
            "  Train Loss: 0.9142, Train Accuracy: 0.9924\n",
            "  Test Loss: 1.0340, Test Accuracy: 0.8929\n",
            "Epoch 46/100\n",
            "  Train Loss: 0.9144, Train Accuracy: 0.9924\n",
            "  Test Loss: 1.0331, Test Accuracy: 0.8929\n",
            "Epoch 47/100\n",
            "  Train Loss: 0.9146, Train Accuracy: 0.9924\n",
            "  Test Loss: 1.0326, Test Accuracy: 0.8929\n",
            "Epoch 48/100\n",
            "  Train Loss: 0.9138, Train Accuracy: 0.9924\n",
            "  Test Loss: 1.0326, Test Accuracy: 0.8929\n",
            "Epoch 49/100\n",
            "  Train Loss: 0.9140, Train Accuracy: 0.9924\n",
            "  Test Loss: 1.0327, Test Accuracy: 0.8929\n",
            "Epoch 50/100\n",
            "  Train Loss: 0.9138, Train Accuracy: 0.9924\n",
            "  Test Loss: 1.0337, Test Accuracy: 0.8929\n",
            "Epoch 51/100\n",
            "  Train Loss: 0.9138, Train Accuracy: 0.9924\n",
            "  Test Loss: 1.0338, Test Accuracy: 0.8929\n",
            "Epoch 52/100\n",
            "  Train Loss: 0.9138, Train Accuracy: 0.9924\n",
            "  Test Loss: 1.0324, Test Accuracy: 0.8929\n",
            "Epoch 53/100\n",
            "  Train Loss: 0.9132, Train Accuracy: 0.9924\n",
            "  Test Loss: 1.0322, Test Accuracy: 0.8929\n",
            "Epoch 54/100\n",
            "  Train Loss: 0.9135, Train Accuracy: 0.9924\n",
            "  Test Loss: 1.0322, Test Accuracy: 0.8929\n",
            "Epoch 55/100\n",
            "  Train Loss: 0.9132, Train Accuracy: 0.9924\n",
            "  Test Loss: 1.0315, Test Accuracy: 0.8929\n",
            "Epoch 56/100\n",
            "  Train Loss: 0.9131, Train Accuracy: 0.9924\n",
            "  Test Loss: 1.0310, Test Accuracy: 0.8929\n",
            "Epoch 57/100\n",
            "  Train Loss: 0.9132, Train Accuracy: 0.9924\n",
            "  Test Loss: 1.0304, Test Accuracy: 0.8929\n",
            "Epoch 58/100\n",
            "  Train Loss: 0.9129, Train Accuracy: 0.9924\n",
            "  Test Loss: 1.0296, Test Accuracy: 0.8929\n",
            "Epoch 59/100\n",
            "  Train Loss: 0.9128, Train Accuracy: 0.9924\n",
            "  Test Loss: 1.0284, Test Accuracy: 0.8929\n",
            "Epoch 60/100\n",
            "  Train Loss: 0.9129, Train Accuracy: 0.9924\n",
            "  Test Loss: 1.0273, Test Accuracy: 0.8929\n",
            "Epoch 61/100\n",
            "  Train Loss: 0.9125, Train Accuracy: 0.9924\n",
            "  Test Loss: 1.0260, Test Accuracy: 0.8929\n",
            "Epoch 62/100\n",
            "  Train Loss: 0.9127, Train Accuracy: 0.9924\n",
            "  Test Loss: 1.0255, Test Accuracy: 0.8929\n",
            "Epoch 63/100\n",
            "  Train Loss: 0.9127, Train Accuracy: 0.9924\n",
            "  Test Loss: 1.0254, Test Accuracy: 0.8929\n",
            "Epoch 64/100\n",
            "  Train Loss: 0.9126, Train Accuracy: 0.9924\n",
            "  Test Loss: 1.0253, Test Accuracy: 0.8929\n",
            "Epoch 65/100\n",
            "  Train Loss: 0.9127, Train Accuracy: 0.9924\n",
            "  Test Loss: 1.0254, Test Accuracy: 0.8929\n",
            "Epoch 66/100\n",
            "  Train Loss: 0.9126, Train Accuracy: 0.9924\n",
            "  Test Loss: 1.0257, Test Accuracy: 0.8929\n",
            "Epoch 67/100\n",
            "  Train Loss: 0.9126, Train Accuracy: 0.9924\n",
            "  Test Loss: 1.0254, Test Accuracy: 0.8929\n",
            "Epoch 68/100\n",
            "  Train Loss: 0.9127, Train Accuracy: 0.9924\n",
            "  Test Loss: 1.0239, Test Accuracy: 0.8929\n",
            "Epoch 69/100\n",
            "  Train Loss: 0.9124, Train Accuracy: 0.9924\n",
            "  Test Loss: 1.0229, Test Accuracy: 0.8929\n",
            "Epoch 70/100\n",
            "  Train Loss: 0.9124, Train Accuracy: 0.9924\n",
            "  Test Loss: 1.0225, Test Accuracy: 0.8929\n",
            "Epoch 71/100\n",
            "  Train Loss: 0.9124, Train Accuracy: 0.9924\n",
            "  Test Loss: 1.0218, Test Accuracy: 0.8929\n",
            "Epoch 72/100\n",
            "  Train Loss: 0.9121, Train Accuracy: 0.9924\n",
            "  Test Loss: 1.0217, Test Accuracy: 0.8929\n",
            "Epoch 73/100\n",
            "  Train Loss: 0.9123, Train Accuracy: 0.9924\n",
            "  Test Loss: 1.0218, Test Accuracy: 0.8929\n",
            "Epoch 74/100\n",
            "  Train Loss: 0.9123, Train Accuracy: 0.9924\n",
            "  Test Loss: 1.0222, Test Accuracy: 0.8929\n",
            "Epoch 75/100\n",
            "  Train Loss: 0.9121, Train Accuracy: 0.9924\n",
            "  Test Loss: 1.0228, Test Accuracy: 0.8929\n",
            "Epoch 76/100\n",
            "  Train Loss: 0.9526, Train Accuracy: 0.9924\n",
            "  Test Loss: 1.0219, Test Accuracy: 0.8929\n",
            "Epoch 77/100\n",
            "  Train Loss: 0.9121, Train Accuracy: 0.9924\n",
            "  Test Loss: 1.0227, Test Accuracy: 0.8929\n",
            "Epoch 78/100\n",
            "  Train Loss: 0.9122, Train Accuracy: 0.9924\n",
            "  Test Loss: 1.0246, Test Accuracy: 0.8929\n",
            "Epoch 79/100\n",
            "  Train Loss: 0.9123, Train Accuracy: 0.9924\n",
            "  Test Loss: 1.0251, Test Accuracy: 0.8929\n",
            "Epoch 80/100\n",
            "  Train Loss: 0.9122, Train Accuracy: 0.9924\n",
            "  Test Loss: 1.0241, Test Accuracy: 0.8929\n",
            "Epoch 81/100\n",
            "  Train Loss: 0.9121, Train Accuracy: 0.9924\n",
            "  Test Loss: 1.0228, Test Accuracy: 0.8929\n",
            "Epoch 82/100\n",
            "  Train Loss: 0.9121, Train Accuracy: 0.9924\n",
            "  Test Loss: 1.0211, Test Accuracy: 0.8929\n",
            "Epoch 83/100\n",
            "  Train Loss: 0.9120, Train Accuracy: 0.9924\n",
            "  Test Loss: 1.0202, Test Accuracy: 0.8929\n",
            "Epoch 84/100\n",
            "  Train Loss: 0.9120, Train Accuracy: 0.9924\n",
            "  Test Loss: 1.0193, Test Accuracy: 0.8929\n",
            "Epoch 85/100\n",
            "  Train Loss: 0.9121, Train Accuracy: 0.9924\n",
            "  Test Loss: 1.0186, Test Accuracy: 0.8929\n",
            "Epoch 86/100\n",
            "  Train Loss: 0.9119, Train Accuracy: 0.9924\n",
            "  Test Loss: 1.0188, Test Accuracy: 0.8929\n",
            "Epoch 87/100\n",
            "  Train Loss: 0.9120, Train Accuracy: 0.9924\n",
            "  Test Loss: 1.0184, Test Accuracy: 0.8929\n",
            "Epoch 88/100\n",
            "  Train Loss: 0.9119, Train Accuracy: 0.9924\n",
            "  Test Loss: 1.0182, Test Accuracy: 0.8929\n",
            "Epoch 89/100\n",
            "  Train Loss: 0.9119, Train Accuracy: 0.9924\n",
            "  Test Loss: 1.0182, Test Accuracy: 0.8929\n",
            "Epoch 90/100\n",
            "  Train Loss: 0.9119, Train Accuracy: 0.9924\n",
            "  Test Loss: 1.0183, Test Accuracy: 0.8929\n",
            "Epoch 91/100\n",
            "  Train Loss: 0.9119, Train Accuracy: 0.9924\n",
            "  Test Loss: 1.0185, Test Accuracy: 0.8929\n",
            "Epoch 92/100\n",
            "  Train Loss: 0.9119, Train Accuracy: 0.9924\n",
            "  Test Loss: 1.0189, Test Accuracy: 0.8929\n",
            "Epoch 93/100\n",
            "  Train Loss: 0.9119, Train Accuracy: 0.9924\n",
            "  Test Loss: 1.0192, Test Accuracy: 0.8929\n",
            "Epoch 94/100\n",
            "  Train Loss: 0.9120, Train Accuracy: 0.9924\n",
            "  Test Loss: 1.0188, Test Accuracy: 0.8929\n",
            "Epoch 95/100\n",
            "  Train Loss: 0.9118, Train Accuracy: 0.9924\n",
            "  Test Loss: 1.0198, Test Accuracy: 0.8929\n",
            "Epoch 96/100\n",
            "  Train Loss: 0.9117, Train Accuracy: 0.9924\n",
            "  Test Loss: 1.0201, Test Accuracy: 0.8929\n",
            "Epoch 97/100\n",
            "  Train Loss: 0.9119, Train Accuracy: 0.9924\n",
            "  Test Loss: 1.0197, Test Accuracy: 0.8929\n",
            "Epoch 98/100\n",
            "  Train Loss: 0.9119, Train Accuracy: 0.9924\n",
            "  Test Loss: 1.0189, Test Accuracy: 0.8929\n",
            "Epoch 99/100\n",
            "  Train Loss: 0.9117, Train Accuracy: 0.9924\n",
            "  Test Loss: 1.0180, Test Accuracy: 0.8929\n",
            "Epoch 100/100\n",
            "  Train Loss: 0.9117, Train Accuracy: 0.9924\n",
            "  Test Loss: 1.0177, Test Accuracy: 0.8929\n"
          ]
        }
      ]
    },
    {
      "cell_type": "code",
      "source": [
        "plot_performance(train_losses_v3, train_accuracies_v3, test_losses_v3, test_accuracies_v3)"
      ],
      "metadata": {
        "colab": {
          "base_uri": "https://localhost:8080/",
          "height": 507
        },
        "id": "KdkdmYInUyoY",
        "outputId": "57ac6b92-5150-422f-c25e-5844f1ded173"
      },
      "execution_count": 87,
      "outputs": [
        {
          "output_type": "display_data",
          "data": {
            "text/plain": [
              "<Figure size 1200x500 with 2 Axes>"
            ],
            "image/png": "[encoded data removed]"
          },
          "metadata": {}
        }
      ]
    }
  ],
  "metadata": {
    "accelerator": "GPU",
    "colab": {
      "provenance": []
    },
    "coursera": {
      "schema_names": [
        "DLSC5W2-A2"
      ]
    },
    "kernelspec": {
      "display_name": "Python vevn",
      "language": "python",
      "name": ".venv"
    },
    "language_info": {
      "codemirror_mode": {
        "name": "ipython",
        "version": 3
      },
      "file_extension": ".py",
      "mimetype": "text/x-python",
      "name": "python",
      "nbconvert_exporter": "python",
      "pygments_lexer": "ipython3",
      "version": "3.9.9"
    }
  },
  "nbformat": 4,
  "nbformat_minor": 0
}